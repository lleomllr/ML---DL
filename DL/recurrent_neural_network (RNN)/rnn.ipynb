{
  "nbformat": 4,
  "nbformat_minor": 0,
  "metadata": {
    "colab": {
      "provenance": []
    },
    "kernelspec": {
      "name": "python3",
      "display_name": "Python 3"
    },
    "language_info": {
      "name": "python"
    }
  },
  "cells": [
    {
      "cell_type": "code",
      "execution_count": 1,
      "metadata": {
        "id": "bdwg-BinVq7F"
      },
      "outputs": [],
      "source": [
        "import tensorflow as tf\n",
        "from tensorflow.keras.models import Sequential\n",
        "from tensorflow.keras.layers import Dense, Dropout, LSTM"
      ]
    },
    {
      "cell_type": "code",
      "source": [
        "mnist = tf.keras.datasets.mnist\n",
        "#charge les données et les split en ens d'entrainement\n",
        "(x_train, y_train),(x_test, y_test) = mnist.load_data()"
      ],
      "metadata": {
        "colab": {
          "base_uri": "https://localhost:8080/"
        },
        "id": "fXFZCp8hVy2E",
        "outputId": "e270c71b-f293-4d24-e7e4-04f3e473b991"
      },
      "execution_count": 2,
      "outputs": [
        {
          "output_type": "stream",
          "name": "stdout",
          "text": [
            "Downloading data from https://storage.googleapis.com/tensorflow/tf-keras-datasets/mnist.npz\n",
            "11490434/11490434 [==============================] - 0s 0us/step\n"
          ]
        }
      ]
    },
    {
      "cell_type": "code",
      "source": [
        "#normalisation des valeurs de pixels pour les mettre entre 0 et 1\n",
        "x_train = x_train/255.0\n",
        "x_test = x_test/255.0\n",
        "\n",
        "print(x_train.shape)\n",
        "print(x_train[0].shape)"
      ],
      "metadata": {
        "colab": {
          "base_uri": "https://localhost:8080/"
        },
        "id": "V3gJ57k4V1em",
        "outputId": "ec43405b-3187-475c-9da8-9e6e37cb2bac"
      },
      "execution_count": 3,
      "outputs": [
        {
          "output_type": "stream",
          "name": "stdout",
          "text": [
            "(60000, 28, 28)\n",
            "(28, 28)\n"
          ]
        }
      ]
    },
    {
      "cell_type": "code",
      "source": [
        "model = Sequential()\n",
        "model.add(LSTM(128, input_shape=(x_train.shape[1:]), activation='relu', return_sequences=True))\n",
        "model.add(Dropout(0.2))\n",
        "\n",
        "model.add(LSTM(128, activation='relu'))\n",
        "model.add(Dropout(0.1))\n",
        "\n",
        "model.add(Dense(32, activation='relu'))\n",
        "model.add(Dropout(0.2))\n",
        "\n",
        "model.add(Dense(10, activation='softmax'))"
      ],
      "metadata": {
        "id": "B5fXoSGfV4nX"
      },
      "execution_count": 4,
      "outputs": []
    },
    {
      "cell_type": "code",
      "source": [
        "#création d'optimiseur Adam avec taux d'apprentissage de 0.001 et une légère décroissance du taux d'apprentissage de 1e-6\n",
        "opt = tf.keras.optimizers.legacy.Adam(learning_rate=0.001, decay=1e-6)\n",
        "\n",
        "model.compile(\n",
        "    #perte appropriée pour la classification multicatégorie lorsque les étiquettes sont des entiers\n",
        "    loss='sparse_categorical_crossentropy',\n",
        "    optimizer=opt,\n",
        "    metrics=['accuracy'],\n",
        ")\n",
        "\n",
        "model.fit(x_train,\n",
        "          y_train,\n",
        "          epochs=3,\n",
        "          validation_data=(x_test, y_test))"
      ],
      "metadata": {
        "colab": {
          "base_uri": "https://localhost:8080/"
        },
        "id": "rx70KdaqV6mT",
        "outputId": "76e0b09d-8cc6-452d-8ead-d1d0b99ddb87"
      },
      "execution_count": 7,
      "outputs": [
        {
          "output_type": "stream",
          "name": "stdout",
          "text": [
            "Epoch 1/3\n",
            "1875/1875 [==============================] - 172s 91ms/step - loss: 0.5796 - accuracy: 0.8072 - val_loss: 0.1259 - val_accuracy: 0.9614\n",
            "Epoch 2/3\n",
            "1875/1875 [==============================] - 166s 89ms/step - loss: 0.1558 - accuracy: 0.9575 - val_loss: 0.0933 - val_accuracy: 0.9764\n",
            "Epoch 3/3\n",
            "1875/1875 [==============================] - 171s 91ms/step - loss: 0.1038 - accuracy: 0.9721 - val_loss: 0.0601 - val_accuracy: 0.9819\n"
          ]
        },
        {
          "output_type": "execute_result",
          "data": {
            "text/plain": [
              "<keras.src.callbacks.History at 0x7b6558ae3520>"
            ]
          },
          "metadata": {},
          "execution_count": 7
        }
      ]
    }
  ]
}