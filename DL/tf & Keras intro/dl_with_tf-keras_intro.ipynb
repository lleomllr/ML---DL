{

    {
      "cell_type": "code",
      "execution_count": 25,
      "metadata": {
        "id": "zwFnJsE6vjf8",
        "outputId": "727e5d3e-82cf-4c86-c756-ea84cc019d8d",
        "colab": {
          "base_uri": "https://localhost:8080/"
        }
      },
      "outputs": [
        {
          "output_type": "stream",
          "name": "stdout",
          "text": [
            "Epoch 1/3\n",
            "1875/1875 [==============================] - 14s 7ms/step - loss: 0.2632 - accuracy: 0.9231\n",
            "Epoch 2/3\n",
            "1875/1875 [==============================] - 9s 5ms/step - loss: 0.1065 - accuracy: 0.9674\n",
            "Epoch 3/3\n",
            "1875/1875 [==============================] - 10s 5ms/step - loss: 0.0735 - accuracy: 0.9775\n"
          ]
        },
        {
          "output_type": "execute_result",
          "data": {
            "text/plain": [
              "<keras.src.callbacks.History at 0x79af8870f1c0>"
            ]
          },
          "metadata": {},
          "execution_count": 25
        }
      ],
      "source": [
        "import tensorflow as tf\n",
        "\n",
        "mnist = tf.keras.datasets.mnist\n",
        "\n",
        "#download et divise les données en données d'entraitement et de test\n",
        "(x_train, y_train), (x_test, y_test) = mnist.load_data()\n",
        "\n",
        "#normalisation des images en 0 à 1. axis=1 => Pour chaque image individuellement\n",
        "x_train = tf.keras.utils.normalize(x_train, axis=1)\n",
        "x_test = tf.keras.utils.normalize(x_test, axis=1)\n",
        "\n",
        "#couches du modèle empilées les unes après les autres\n",
        "model = tf.keras.models.Sequential()\n",
        "#couche Flatten qui transforme les 2D en vecteur 1D => préparer les données pour les couches denses suivantes\n",
        "model.add(tf.keras.layers.Flatten())\n",
        "#ajout couche dense avec 128 neurones et fonction activation ReLu\n",
        "model.add(tf.keras.layers.Dense(128, activation=tf.nn.relu))\n",
        "#ajout 2eme couche dense avec 128 neurones et fonction activation ReLu => App caract + complexe\n",
        "model.add(tf.keras.layers.Dense(128, activation=tf.nn.relu))\n",
        "#ajout couche dense finale avec 10 neurones (=10 classes de chiffres) et fonction activation softmax => distrib de proba sur les 10 classes\n",
        "model.add(tf.keras.layers.Dense(10, activation=tf.nn.softmax))\n",
        "\n",
        "#compilation du modèle avec opti adam, fction perte sparse et mesure de l'exactitude pendant l'entrainement\n",
        "model.compile(optimizer='adam',\n",
        "              loss='sparse_categorical_crossentropy',\n",
        "              metrics=['accuracy'])\n",
        "#entraine le modèle sur 3 époques = Passe 3fois sur les données pour ajuster les poids des neurones et améliorer précision\n",
        "model.fit(x_train, y_train, epochs=3)"
      ]
    },
    {
      "cell_type": "code",
      "source": [
        "val_loss, val_acc = model.evaluate(x_test, y_test)\n",
        "print(val_loss, val_acc)"
      ],
      "metadata": {
        "id": "CMhkygxf_-g7",
        "outputId": "cc98b164-75e4-480b-c04b-1f6a8a3e326f",
        "colab": {
          "base_uri": "https://localhost:8080/"
        }
      },
      "execution_count": 27,
      "outputs": [
        {
          "output_type": "stream",
          "name": "stdout",
          "text": [
            "313/313 [==============================] - 1s 2ms/step - loss: 0.0968 - accuracy: 0.9688\n",
            "0.0968262255191803 0.9688000082969666\n"
          ]
        }
      ]
    },
    {
      "cell_type": "code",
      "source": [
        "import matplotlib.pyplot as plt\n",
        "#affiche 1ere image du jeu d'entrainement en nuance de gris\n",
        "plt.imshow(x_train[0], cmap = plt.cm.binary)\n",
        "plt.show()\n",
        "#affiche valeur pixels de l'image (val entre 0 et 1)\n",
        "print(x_train[0])"
      ],
      "metadata": {
        "id": "0SlCKDGr9X-Y",
        "outputId": "94c5657b-21a4-4bd3-9d03-f5f12db455f1",
        "colab": {
          "base_uri": "https://localhost:8080/",
          "height": 1000
        }
      },
      "execution_count": 26,
      "outputs": [
        {
          "output_type": "display_data",
          "data": {
            "text/plain": [
              "<Figure size 640x480 with 1 Axes>"
            ],
            "image/png": "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\n"
          },
          "metadata": {}
        },
        {
          "output_type": "stream",
          "name": "stdout",
          "text": [
            "[[0.         0.         0.         0.         0.         0.\n",
            "  0.         0.         0.         0.         0.         0.\n",
            "  0.         0.         0.         0.         0.         0.\n",
            "  0.         0.         0.         0.         0.         0.\n",
            "  0.         0.         0.         0.        ]\n",
            " [0.         0.         0.         0.         0.         0.\n",
            "  0.         0.         0.         0.         0.         0.\n",
            "  0.         0.         0.         0.         0.         0.\n",
            "  0.         0.         0.         0.         0.         0.\n",
            "  0.         0.         0.         0.        ]\n",
            " [0.         0.         0.         0.         0.         0.\n",
            "  0.         0.         0.         0.         0.         0.\n",
            "  0.         0.         0.         0.         0.         0.\n",
            "  0.         0.         0.         0.         0.         0.\n",
            "  0.         0.         0.         0.        ]\n",
            " [0.         0.         0.         0.         0.         0.\n",
            "  0.         0.         0.         0.         0.         0.\n",
            "  0.         0.         0.         0.         0.         0.\n",
            "  0.         0.         0.         0.         0.         0.\n",
            "  0.         0.         0.         0.        ]\n",
            " [0.         0.         0.         0.         0.         0.\n",
            "  0.         0.         0.         0.         0.         0.\n",
            "  0.         0.         0.         0.         0.         0.\n",
            "  0.         0.         0.         0.         0.         0.\n",
            "  0.         0.         0.         0.        ]\n",
            " [0.         0.         0.         0.         0.         0.\n",
            "  0.         0.         0.         0.         0.         0.\n",
            "  0.00393124 0.02332955 0.02620568 0.02625207 0.17420356 0.17566281\n",
            "  0.28629534 0.05664824 0.51877786 0.71632322 0.77892406 0.89301644\n",
            "  0.         0.         0.         0.        ]\n",
            " [0.         0.         0.         0.         0.         0.\n",
            "  0.         0.         0.05780486 0.06524513 0.16128198 0.22713296\n",
            "  0.22277047 0.32790981 0.36833534 0.3689874  0.34978968 0.32678448\n",
            "  0.368094   0.3747499  0.79066747 0.67980478 0.61494005 0.45002403\n",
            "  0.         0.         0.         0.        ]\n",
            " [0.         0.         0.         0.         0.         0.\n",
            "  0.         0.12250613 0.45858525 0.45852825 0.43408872 0.37314701\n",
            "  0.33153488 0.32790981 0.36833534 0.3689874  0.34978968 0.32420121\n",
            "  0.15214552 0.17865984 0.25626376 0.1573102  0.12298801 0.\n",
            "  0.         0.         0.         0.        ]\n",
            " [0.         0.         0.         0.         0.         0.\n",
            "  0.         0.04500225 0.4219755  0.45852825 0.43408872 0.37314701\n",
            "  0.33153488 0.32790981 0.28826244 0.26543758 0.34149427 0.31128482\n",
            "  0.         0.         0.         0.         0.         0.\n",
            "  0.         0.         0.         0.        ]\n",
            " [0.         0.         0.         0.         0.         0.\n",
            "  0.         0.         0.1541463  0.28272888 0.18358693 0.37314701\n",
            "  0.33153488 0.26569767 0.01601458 0.         0.05945042 0.19891229\n",
            "  0.         0.         0.         0.         0.         0.\n",
            "  0.         0.         0.         0.        ]\n",
            " [0.         0.         0.         0.         0.         0.\n",
            "  0.         0.         0.         0.0253731  0.00171577 0.22713296\n",
            "  0.33153488 0.11664776 0.         0.         0.         0.\n",
            "  0.         0.         0.         0.         0.         0.\n",
            "  0.         0.         0.         0.        ]\n",
            " [0.         0.         0.         0.         0.         0.\n",
            "  0.         0.         0.         0.         0.         0.20500962\n",
            "  0.33153488 0.24625638 0.00291174 0.         0.         0.\n",
            "  0.         0.         0.         0.         0.         0.\n",
            "  0.         0.         0.         0.        ]\n",
            " [0.         0.         0.         0.         0.         0.\n",
            "  0.         0.         0.         0.         0.         0.01622378\n",
            "  0.24897876 0.32790981 0.10191096 0.         0.         0.\n",
            "  0.         0.         0.         0.         0.         0.\n",
            "  0.         0.         0.         0.        ]\n",
            " [0.         0.         0.         0.         0.         0.\n",
            "  0.         0.         0.         0.         0.         0.\n",
            "  0.04586451 0.31235677 0.32757096 0.23335172 0.14931733 0.00129164\n",
            "  0.         0.         0.         0.         0.         0.\n",
            "  0.         0.         0.         0.        ]\n",
            " [0.         0.         0.         0.         0.         0.\n",
            "  0.         0.         0.         0.         0.         0.\n",
            "  0.         0.10498298 0.34940902 0.3689874  0.34978968 0.15370495\n",
            "  0.04089933 0.         0.         0.         0.         0.\n",
            "  0.         0.         0.         0.        ]\n",
            " [0.         0.         0.         0.         0.         0.\n",
            "  0.         0.         0.         0.         0.         0.\n",
            "  0.         0.         0.06551419 0.27127137 0.34978968 0.32678448\n",
            "  0.245396   0.05882702 0.         0.         0.         0.\n",
            "  0.         0.         0.         0.        ]\n",
            " [0.         0.         0.         0.         0.         0.\n",
            "  0.         0.         0.         0.         0.         0.\n",
            "  0.         0.         0.         0.02333517 0.12857881 0.32549285\n",
            "  0.41390126 0.40743158 0.         0.         0.         0.\n",
            "  0.         0.         0.         0.        ]\n",
            " [0.         0.         0.         0.         0.         0.\n",
            "  0.         0.         0.         0.         0.         0.\n",
            "  0.         0.         0.         0.         0.         0.32161793\n",
            "  0.41390126 0.54251585 0.20001074 0.         0.         0.\n",
            "  0.         0.         0.         0.        ]\n",
            " [0.         0.         0.         0.         0.         0.\n",
            "  0.         0.         0.         0.         0.         0.\n",
            "  0.         0.         0.06697006 0.18959827 0.25300993 0.32678448\n",
            "  0.41390126 0.45100715 0.00625034 0.         0.         0.\n",
            "  0.         0.         0.         0.        ]\n",
            " [0.         0.         0.         0.         0.         0.\n",
            "  0.         0.         0.         0.         0.         0.\n",
            "  0.05110617 0.19182076 0.33339444 0.3689874  0.34978968 0.32678448\n",
            "  0.40899334 0.39653769 0.         0.         0.         0.\n",
            "  0.         0.         0.         0.        ]\n",
            " [0.         0.         0.         0.         0.         0.\n",
            "  0.         0.         0.         0.         0.04117838 0.16813739\n",
            "  0.28960162 0.32790981 0.36833534 0.3689874  0.34978968 0.25961929\n",
            "  0.12760592 0.         0.         0.         0.         0.\n",
            "  0.         0.         0.         0.        ]\n",
            " [0.         0.         0.         0.         0.         0.\n",
            "  0.         0.         0.04431706 0.11961607 0.36545809 0.37314701\n",
            "  0.33153488 0.32790981 0.36833534 0.28877275 0.111988   0.00258328\n",
            "  0.         0.         0.         0.         0.         0.\n",
            "  0.         0.         0.         0.        ]\n",
            " [0.         0.         0.         0.         0.         0.\n",
            "  0.05298497 0.42752138 0.4219755  0.45852825 0.43408872 0.37314701\n",
            "  0.33153488 0.25273681 0.11646967 0.01312603 0.         0.\n",
            "  0.         0.         0.         0.         0.         0.\n",
            "  0.         0.         0.         0.        ]\n",
            " [0.         0.         0.         0.         0.37491383 0.56222061\n",
            "  0.66525569 0.63253163 0.48748768 0.45852825 0.43408872 0.359873\n",
            "  0.17428513 0.01425695 0.         0.         0.         0.\n",
            "  0.         0.         0.         0.         0.         0.\n",
            "  0.         0.         0.         0.        ]\n",
            " [0.         0.         0.         0.         0.92705966 0.82698729\n",
            "  0.74473314 0.63253163 0.4084877  0.24466922 0.22648107 0.02359823\n",
            "  0.         0.         0.         0.         0.         0.\n",
            "  0.         0.         0.         0.         0.         0.\n",
            "  0.         0.         0.         0.        ]\n",
            " [0.         0.         0.         0.         0.         0.\n",
            "  0.         0.         0.         0.         0.         0.\n",
            "  0.         0.         0.         0.         0.         0.\n",
            "  0.         0.         0.         0.         0.         0.\n",
            "  0.         0.         0.         0.        ]\n",
            " [0.         0.         0.         0.         0.         0.\n",
            "  0.         0.         0.         0.         0.         0.\n",
            "  0.         0.         0.         0.         0.         0.\n",
            "  0.         0.         0.         0.         0.         0.\n",
            "  0.         0.         0.         0.        ]\n",
            " [0.         0.         0.         0.         0.         0.\n",
            "  0.         0.         0.         0.         0.         0.\n",
            "  0.         0.         0.         0.         0.         0.\n",
            "  0.         0.         0.         0.         0.         0.\n",
            "  0.         0.         0.         0.        ]]\n"
          ]
        }
      ]
    },
    {
      "cell_type": "code",
      "source": [
        "#enregistre model dans un fichier\n",
        "model.save('epic_num_reader.model')"
      ],
      "metadata": {
        "id": "AkYfyMjLAaQO"
      },
      "execution_count": 28,
      "outputs": []
    },
    {
      "cell_type": "code",
      "source": [
        "new_model = tf.keras.models.load_model('epic_num_reader.model')"
      ],
      "metadata": {
        "id": "YQF0TxX4AiRj"
      },
      "execution_count": 29,
      "outputs": []
    },
    {
      "cell_type": "code",
      "source": [
        "#fait des predictions sur les données test\n",
        "predictions = new_model.predict([x_test])"
      ],
      "metadata": {
        "id": "Cajv4JLpApYU",
        "outputId": "52009f25-b993-4216-ab09-714d44a4f955",
        "colab": {
          "base_uri": "https://localhost:8080/"
        }
      },
      "execution_count": 30,
      "outputs": [
        {
          "output_type": "stream",
          "name": "stdout",
          "text": [
            "313/313 [==============================] - 1s 2ms/step\n"
          ]
        }
      ]
    },
    {
      "cell_type": "code",
      "source": [
        "print(predictions)"
      ],
      "metadata": {
        "id": "CUCDBcGeAx12",
        "outputId": "9899bc04-4d10-4874-8316-c93af04c5409",
        "colab": {
          "base_uri": "https://localhost:8080/"
        }
      },
      "execution_count": 31,
      "outputs": [
        {
          "output_type": "stream",
          "name": "stdout",
          "text": [
            "[[1.1630227e-08 5.0796711e-08 1.0418650e-04 ... 9.9983096e-01\n",
            "  1.3089804e-06 5.9868881e-07]\n",
            " [3.7814065e-08 1.4764017e-03 9.9792409e-01 ... 4.6945161e-08\n",
            "  4.3950590e-06 1.2509942e-08]\n",
            " [1.2690349e-05 9.9903613e-01 6.9093054e-05 ... 1.8016087e-04\n",
            "  2.7833192e-04 9.6982105e-05]\n",
            " ...\n",
            " [1.6019280e-08 6.4416994e-08 5.6162111e-09 ... 3.6439292e-06\n",
            "  7.5803206e-07 4.3544031e-05]\n",
            " [5.7574039e-06 7.5308748e-07 8.7860442e-08 ... 3.2118298e-06\n",
            "  1.6305210e-03 4.2752739e-09]\n",
            " [1.8224458e-07 5.2050497e-09 4.7778617e-09 ... 2.3633618e-11\n",
            "  2.3194934e-08 3.5138038e-11]]\n"
          ]
        }
      ]
    },
    {
      "cell_type": "code",
      "source": [
        "import numpy as np\n",
        "#affiche l'indice de la valeur max du tableau 'predictions'\n",
        "print(np.argmax(predictions[0]))\n"
      ],
      "metadata": {
        "id": "BChibABEA1K6",
        "outputId": "15ef498c-2ccc-445b-f3bd-1f3bcfc30316",
        "colab": {
          "base_uri": "https://localhost:8080/"
        }
      },
      "execution_count": 32,
      "outputs": [
        {
          "output_type": "stream",
          "name": "stdout",
          "text": [
            "7\n"
          ]
        }
      ]
    },
    {
      "cell_type": "code",
      "source": [
        "plt.imshow(x_test[0])\n",
        "plt.show()"
      ],
      "metadata": {
        "id": "91yME6WIA_p7",
        "outputId": "5b58efc6-2a27-4619-fb3d-bb4941f67197",
        "colab": {
          "base_uri": "https://localhost:8080/",
          "height": 430
        }
      },
      "execution_count": 33,
      "outputs": [
        {
          "output_type": "display_data",
          "data": {
            "text/plain": [
              "<Figure size 640x480 with 1 Axes>"
            ],
            "image/png": "iVBORw0KGgoAAAANSUhEUgAAAaAAAAGdCAYAAABU0qcqAAAAOXRFWHRTb2Z0d2FyZQBNYXRwbG90bGliIHZlcnNpb24zLjcuMSwgaHR0cHM6Ly9tYXRwbG90bGliLm9yZy/bCgiHAAAACXBIWXMAAA9hAAAPYQGoP6dpAAAbKklEQVR4nO3df3BU9f3v8dcmJMsPk01DSDZbAgZQaAXSbymkuSpiyQDpXAaEP/w194LjwEiDU0it3nRUtO1MWpyxjt4U585toc4IWucKXJnv4NVowtgGOqBchmmbL4lRYMiGyjTZEMwPks/9g+vWlQQ8yy7vZHk+Zs4M2T2fnDfHlSeHbE58zjknAACuszTrAQAANyYCBAAwQYAAACYIEADABAECAJggQAAAEwQIAGCCAAEATIyxHuCrBgcHdebMGWVlZcnn81mPAwDwyDmnrq4uhUIhpaUNf50z4gJ05swZFRUVWY8BALhGp06d0uTJk4d9fsQFKCsrS5J0h36oMcowngYA4NVF9esD/Xv0z/PhJC1AtbW1eu655xQOh1VSUqKXXnpJCxYsuOq6L/7ZbYwyNMZHgABg1Pn/dxi92pdRkvImhNdff11VVVXasmWLPvzwQ5WUlGjp0qU6e/ZsMg4HABiFkhKg559/XuvWrdNDDz2kb3/723r55Zc1fvx4/f73v0/G4QAAo1DCA9TX16cjR46ovLz8XwdJS1N5ebkaGxsv27+3t1eRSCRmAwCkvoQH6LPPPtPAwIAKCgpiHi8oKFA4HL5s/5qaGgUCgejGO+AA4MZg/o2o1dXV6uzsjG6nTp2yHgkAcB0k/F1weXl5Sk9PV3t7e8zj7e3tCgaDl+3v9/vl9/sTPQYAYIRL+BVQZmam5s2bp7q6uuhjg4ODqqurU1lZWaIPBwAYpZLyfUBVVVVas2aNvve972nBggV64YUX1N3drYceeigZhwMAjEJJCdC9996rf/zjH3r66acVDof1ne98R/v377/sjQkAgBuXzznnrIf4skgkokAgoEVawZ0QAGAUuuj6Va+96uzsVHZ29rD7mb8LDgBwYyJAAAATBAgAYIIAAQBMECAAgAkCBAAwQYAAACYIEADABAECAJggQAAAEwQIAGCCAAEATBAgAIAJAgQAMEGAAAAmCBAAwAQBAgCYIEAAABMECABgggABAEwQIACACQIEADBBgAAAJggQAMAEAQIAmCBAAAATBAgAYIIAAQBMECAAgAkCBAAwQYAAACYIEADABAECAJggQAAAEwQIAGCCAAEATBAgAIAJAgQAMEGAAAAmCBAAwAQBAgCYIEAAABMECABgggABAEwQIACACQIEADBBgAAAJggQAMAEAQIAmCBAAAATBAgAYIIAAQBMECAAgAkCBAAwQYAAACYSHqBnnnlGPp8vZps1a1aiDwMAGOXGJOOT3nbbbXr33Xf/dZAxSTkMAGAUS0oZxowZo2AwmIxPDQBIEUn5GtCJEycUCoU0bdo0Pfjggzp58uSw+/b29ioSicRsAIDUl/AAlZaWaseOHdq/f7+2bdum1tZW3Xnnnerq6hpy/5qaGgUCgehWVFSU6JEAACOQzznnknmAjo4OTZ06Vc8//7wefvjhy57v7e1Vb29v9ONIJKKioiIt0gqN8WUkczQAQBJcdP2q1151dnYqOzt72P2S/u6AnJwc3XrrrWpubh7yeb/fL7/fn+wxAAAjTNK/D+j8+fNqaWlRYWFhsg8FABhFEh6gxx57TA0NDfrkk0/05z//Wffcc4/S09N1//33J/pQAIBRLOH/BHf69Gndf//9OnfunCZNmqQ77rhDBw8e1KRJkxJ9KADAKJbwAL322muJ/pQAgBTEveAAACYIEADABAECAJggQAAAEwQIAGCCAAEATBAgAIAJAgQAMEGAAAAmCBAAwAQBAgCYIEAAABNJ/4F0uL7Cm/+T5zW9ZUP/uPSr6buQ6XmNu5Duec2MXf2e12Q2t3leI0kX28JxrQPgHVdAAAATBAgAYIIAAQBMECAAgAkCBAAwQYAAACYIEADABAECAJggQAAAEwQIAGCCAAEATBAgAIAJAgQAMMHdsFPM//3pbz2v+R+dobiO9Z2xn3pe0zEw3vOaurLbPK958+0yz2sk6aaT0zyvSbvoPK/pC/g8r1EcSzQYxxpJaRfjOFQcf5rEc5yL47yvGR/2/t9IknK3N8a1Dl8PV0AAABMECABgggABAEwQIACACQIEADBBgAAAJggQAMAEAQIAmCBAAAATBAgAYIIAAQBMECAAgAluRppiSv/bBs9reibGc5dLKevkgOc1HTPSPa/5vND7HTUz+jwvuXSsoPebVvr/6f38Xfim99+Ti+f+pd7/E0mS0vu8H8zX7/04g5ne16QXn/e8Zt2cOu8HkvS/tufHtQ5fD1dAAAATBAgAYIIAAQBMECAAgAkCBAAwQYAAACYIEADABAECAJggQAAAEwQIAGCCAAEATBAgAIAJbkaaYnJeabQe4YomXKfjpE2I70i+yYWe17hPT3s/0K03e18TD+/3PJUk+friuLNo+B+el3z8k9nejxOH/950V1zrCvW3BE+CL+MKCABgggABAEx4DtCBAwe0fPlyhUIh+Xw+7dmzJ+Z555yefvppFRYWaty4cSovL9eJEycSNS8AIEV4DlB3d7dKSkpUW1s75PNbt27Viy++qJdfflmHDh3ShAkTtHTpUvX09FzzsACA1OH5TQgVFRWqqKgY8jnnnF544QU9+eSTWrFihSTplVdeUUFBgfbs2aP77rvv2qYFAKSMhH4NqLW1VeFwWOXl5dHHAoGASktL1dg49Luzent7FYlEYjYAQOpLaIDC4bAkqaCgIObxgoKC6HNfVVNTo0AgEN2KiooSORIAYIQyfxdcdXW1Ojs7o9upU6esRwIAXAcJDVAwGJQktbe3xzze3t4efe6r/H6/srOzYzYAQOpLaICKi4sVDAZVV1cXfSwSiejQoUMqKytL5KEAAKOc53fBnT9/Xs3NzdGPW1tbdfToUeXm5mrKlCnatGmTfvnLX+qWW25RcXGxnnrqKYVCIa1cuTKRcwMARjnPATp8+LDuvvvu6MdVVVWSpDVr1mjHjh16/PHH1d3drfXr16ujo0N33HGH9u/fr7FjxyZuagDAqOdzzjnrIb4sEokoEAhokVZojC/DehwAX9eCOZ6XfLzqJs9rBsd6/yNrZu1Zz2skaeDEx3Gtu9FddP2q1151dnZe8ev65u+CAwDcmAgQAMAEAQIAmCBAAAATBAgAYIIAAQBMECAAgAkCBAAwQYAAACYIEADABAECAJggQAAAEwQIAGDC849jAJD60uP4ycQtK7zf2Vo+70tu/t/9ntdwV+uRiSsgAIAJAgQAMEGAAAAmCBAAwAQBAgCYIEAAABMECABgggABAEwQIACACQIEADBBgAAAJggQAMAENyMFcJnzd8/yvObiOOd5TcZ573cj9Z/6p+c1A55X4HrgCggAYIIAAQBMECAAgAkCBAAwQYAAACYIEADABAECAJggQAAAEwQIAGCCAAEATBAgAIAJAgQAMMHNSIEUlj5zRlzrwmXpcazyfjPSaa/+w/OagRMfe16DkYkrIACACQIEADBBgAAAJggQAMAEAQIAmCBAAAATBAgAYIIAAQBMECAAgAkCBAAwQYAAACYIEADABDcjBVJYZPbEuNY5n/c1WZ94//vswIlW7wdCyuAKCABgggABAEx4DtCBAwe0fPlyhUIh+Xw+7dmzJ+b5tWvXyufzxWzLli1L1LwAgBThOUDd3d0qKSlRbW3tsPssW7ZMbW1t0W3Xrl3XNCQAIPV4fhNCRUWFKioqrriP3+9XMBiMeygAQOpLyteA6uvrlZ+fr5kzZ2rDhg06d+7csPv29vYqEonEbACA1JfwAC1btkyvvPKK6urq9Otf/1oNDQ2qqKjQwMDAkPvX1NQoEAhEt6KiokSPBAAYgRL+fUD33Xdf9Ndz5szR3LlzNX36dNXX12vx4sWX7V9dXa2qqqrox5FIhAgBwA0g6W/DnjZtmvLy8tTc3Dzk836/X9nZ2TEbACD1JT1Ap0+f1rlz51RYWJjsQwEARhHP/wR3/vz5mKuZ1tZWHT16VLm5ucrNzdWzzz6r1atXKxgMqqWlRY8//rhmzJihpUuXJnRwAMDo5jlAhw8f1t133x39+Iuv36xZs0bbtm3TsWPH9Ic//EEdHR0KhUJasmSJfvGLX8jv9yduagDAqOc5QIsWLZJzbtjn33777WsaCMDQfBmZntd0zEiP71iDw/8/PpzQ22c9rxkYHPrdsbgxcC84AIAJAgQAMEGAAAAmCBAAwAQBAgCYIEAAABMECABgggABAEwQIACACQIEADBBgAAAJggQAMAEAQIAmEj4j+QGkBzd//nfPK/5vGAwrmMF/sPnec1A09A/9RgYDldAAAATBAgAYIIAAQBMECAAgAkCBAAwQYAAACYIEADABAECAJggQAAAEwQIAGCCAAEATBAgAIAJbkYKGPDNu83zmjN3eb9BaHqP9zWSFKxr97xmIK4j4UbGFRAAwAQBAgCYIEAAABMECABgggABAEwQIACACQIEADBBgAAAJggQAMAEAQIAmCBAAAATBAgAYIKbkQLXKG3CBM9rPlke8LzG+QY9r8lu9rxEkjRw4uP4FgIecAUEADBBgAAAJggQAMAEAQIAmCBAAAATBAgAYIIAAQBMECAAgAkCBAAwQYAAACYIEADABAECAJjgZqTAl/l8npe0/5e5ntf05Xi/saj/n97/vliwr8XzGkm6GNcqwBuugAAAJggQAMCEpwDV1NRo/vz5ysrKUn5+vlauXKmmpqaYfXp6elRZWamJEyfqpptu0urVq9Xe3p7QoQEAo5+nADU0NKiyslIHDx7UO++8o/7+fi1ZskTd3d3RfTZv3qy33npLb7zxhhoaGnTmzBmtWrUq4YMDAEY3T29C2L9/f8zHO3bsUH5+vo4cOaKFCxeqs7NTv/vd77Rz50794Ac/kCRt375d3/rWt3Tw4EF9//vfT9zkAIBR7Zq+BtTZ2SlJys3NlSQdOXJE/f39Ki8vj+4za9YsTZkyRY2NjUN+jt7eXkUikZgNAJD64g7Q4OCgNm3apNtvv12zZ8+WJIXDYWVmZionJydm34KCAoXD4SE/T01NjQKBQHQrKiqKdyQAwCgSd4AqKyt1/Phxvfbaa9c0QHV1tTo7O6PbqVOnrunzAQBGh7i+EXXjxo3at2+fDhw4oMmTJ0cfDwaD6uvrU0dHR8xVUHt7u4LB4JCfy+/3y+/3xzMGAGAU83QF5JzTxo0btXv3br333nsqLi6OeX7evHnKyMhQXV1d9LGmpiadPHlSZWVliZkYAJASPF0BVVZWaufOndq7d6+ysrKiX9cJBAIaN26cAoGAHn74YVVVVSk3N1fZ2dl69NFHVVZWxjvgAAAxPAVo27ZtkqRFixbFPL59+3atXbtWkvSb3/xGaWlpWr16tXp7e7V06VL99re/TciwAIDU4SlAzrmr7jN27FjV1taqtrY27qEAK2MK8j2v6Znk/Qam0tX/X/qqqfu8f4vCxTB3IcHIxb3gAAAmCBAAwAQBAgCYIEAAABMECABgggABAEwQIACACQIEADBBgAAAJggQAMAEAQIAmCBAAAATBAgAYCKun4gKjHTpkybFte7kf52e4EmGVvR/BjyvcYePJ2ESwA5XQAAAEwQIAGCCAAEATBAgAIAJAgQAMEGAAAAmCBAAwAQBAgCYIEAAABMECABgggABAEwQIACACW5GipQUuWtaXOv6b3Ke16T1+zyvGf8fn3le4/32pcDIxhUQAMAEAQIAmCBAAAATBAgAYIIAAQBMECAAgAkCBAAwQYAAACYIEADABAECAJggQAAAEwQIAGCCm5FixBu86988r2mfH9/frdJ741oGIA5cAQEATBAgAIAJAgQAMEGAAAAmCBAAwAQBAgCYIEAAABMECABgggABAEwQIACACQIEADBBgAAAJrgZKUa8s98d53nNYOZgXMdK7/V5XpMR8X4cX0+f90VAiuEKCABgggABAEx4ClBNTY3mz5+vrKws5efna+XKlWpqaorZZ9GiRfL5fDHbI488ktChAQCjn6cANTQ0qLKyUgcPHtQ777yj/v5+LVmyRN3d3TH7rVu3Tm1tbdFt69atCR0aADD6eXoTwv79+2M+3rFjh/Lz83XkyBEtXLgw+vj48eMVDAYTMyEAICVd09eAOjs7JUm5ubkxj7/66qvKy8vT7NmzVV1drQsXLgz7OXp7exWJRGI2AEDqi/tt2IODg9q0aZNuv/12zZ49O/r4Aw88oKlTpyoUCunYsWN64okn1NTUpDfffHPIz1NTU6Nnn3023jEAAKNU3AGqrKzU8ePH9cEHH8Q8vn79+uiv58yZo8LCQi1evFgtLS2aPn36ZZ+nurpaVVVV0Y8jkYiKioriHQsAMErEFaCNGzdq3759OnDggCZPnnzFfUtLSyVJzc3NQwbI7/fL7/fHMwYAYBTzFCDnnB599FHt3r1b9fX1Ki4uvuqao0ePSpIKCwvjGhAAkJo8BaiyslI7d+7U3r17lZWVpXA4LEkKBAIaN26cWlpatHPnTv3whz/UxIkTdezYMW3evFkLFy7U3Llzk/IbAACMTp4CtG3bNkmXvtn0y7Zv3661a9cqMzNT7777rl544QV1d3erqKhIq1ev1pNPPpmwgQEAqcHzP8FdSVFRkRoaGq5pIADAjYG7YQNfMvYz73fDLvyfRz2vuXiF740DbhTcjBQAYIIAAQBMECAAgAkCBAAwQYAAACYIEADABAECAJggQAAAEwQIAGCCAAEATBAgAIAJAgQAMMHNSDHiBX/zZ+sRrmjQegBglOIKCABgggABAEwQIACACQIEADBBgAAAJggQAMAEAQIAmCBAAAATBAgAYIIAAQBMECAAgIkRdy8455wk6aL6JWc8DADAs4vql/SvP8+HM+IC1NXVJUn6QP9uPAkA4Fp0dXUpEAgM+7zPXS1R19ng4KDOnDmjrKws+Xy+mOcikYiKiop06tQpZWdnG01oj/NwCefhEs7DJZyHS0bCeXDOqaurS6FQSGlpw3+lZ8RdAaWlpWny5MlX3Cc7O/uGfoF9gfNwCefhEs7DJZyHS6zPw5WufL7AmxAAACYIEADAxKgKkN/v15YtW+T3+61HMcV5uITzcAnn4RLOwyWj6TyMuDchAABuDKPqCggAkDoIEADABAECAJggQAAAE6MmQLW1tbr55ps1duxYlZaW6i9/+Yv1SNfdM888I5/PF7PNmjXLeqykO3DggJYvX65QKCSfz6c9e/bEPO+c09NPP63CwkKNGzdO5eXlOnHihM2wSXS187B27drLXh/Lli2zGTZJampqNH/+fGVlZSk/P18rV65UU1NTzD49PT2qrKzUxIkTddNNN2n16tVqb283mjg5vs55WLRo0WWvh0ceecRo4qGNigC9/vrrqqqq0pYtW/Thhx+qpKRES5cu1dmzZ61Hu+5uu+02tbW1RbcPPvjAeqSk6+7uVklJiWpra4d8fuvWrXrxxRf18ssv69ChQ5owYYKWLl2qnp6e6zxpcl3tPEjSsmXLYl4fu3btuo4TJl9DQ4MqKyt18OBBvfPOO+rv79eSJUvU3d0d3Wfz5s1666239MYbb6ihoUFnzpzRqlWrDKdOvK9zHiRp3bp1Ma+HrVu3Gk08DDcKLFiwwFVWVkY/HhgYcKFQyNXU1BhOdf1t2bLFlZSUWI9hSpLbvXt39OPBwUEXDAbdc889F32so6PD+f1+t2vXLoMJr4+vngfnnFuzZo1bsWKFyTxWzp496yS5hoYG59yl//YZGRnujTfeiO7zt7/9zUlyjY2NVmMm3VfPg3PO3XXXXe7HP/6x3VBfw4i/Aurr69ORI0dUXl4efSwtLU3l5eVqbGw0nMzGiRMnFAqFNG3aND344IM6efKk9UimWltbFQ6HY14fgUBApaWlN+Tro76+Xvn5+Zo5c6Y2bNigc+fOWY+UVJ2dnZKk3NxcSdKRI0fU398f83qYNWuWpkyZktKvh6+ehy+8+uqrysvL0+zZs1VdXa0LFy5YjDesEXcz0q/67LPPNDAwoIKCgpjHCwoK9Pe//91oKhulpaXasWOHZs6cqba2Nj377LO68847dfz4cWVlZVmPZyIcDkvSkK+PL567USxbtkyrVq1ScXGxWlpa9LOf/UwVFRVqbGxUenq69XgJNzg4qE2bNun222/X7NmzJV16PWRmZionJydm31R+PQx1HiTpgQce0NSpUxUKhXTs2DE98cQTampq0ptvvmk4bawRHyD8S0VFRfTXc+fOVWlpqaZOnao//vGPevjhhw0nw0hw3333RX89Z84czZ07V9OnT1d9fb0WL15sOFlyVFZW6vjx4zfE10GvZLjzsH79+uiv58yZo8LCQi1evFgtLS2aPn369R5zSCP+n+Dy8vKUnp5+2btY2tvbFQwGjaYaGXJycnTrrbequbnZehQzX7wGeH1cbtq0acrLy0vJ18fGjRu1b98+vf/++zE/viUYDKqvr08dHR0x+6fq62G48zCU0tJSSRpRr4cRH6DMzEzNmzdPdXV10ccGBwdVV1ensrIyw8nsnT9/Xi0tLSosLLQexUxxcbGCwWDM6yMSiejQoUM3/Ovj9OnTOnfuXEq9Ppxz2rhxo3bv3q333ntPxcXFMc/PmzdPGRkZMa+HpqYmnTx5MqVeD1c7D0M5evSoJI2s14P1uyC+jtdee835/X63Y8cO99e//tWtX7/e5eTkuHA4bD3adfWTn/zE1dfXu9bWVvenP/3JlZeXu7y8PHf27Fnr0ZKqq6vLffTRR+6jjz5yktzzzz/vPvroI/fpp58655z71a9+5XJyctzevXvdsWPH3IoVK1xxcbH7/PPPjSdPrCudh66uLvfYY4+5xsZG19ra6t5991333e9+191yyy2up6fHevSE2bBhgwsEAq6+vt61tbVFtwsXLkT3eeSRR9yUKVPce++95w4fPuzKyspcWVmZ4dSJd7Xz0Nzc7H7+85+7w4cPu9bWVrd37143bdo0t3DhQuPJY42KADnn3EsvveSmTJniMjMz3YIFC9zBgwetR7ru7r33XldYWOgyMzPdN7/5TXfvvfe65uZm67GS7v3333eSLtvWrFnjnLv0VuynnnrKFRQUOL/f7xYvXuyamppsh06CK52HCxcuuCVLlrhJkya5jIwMN3XqVLdu3bqU+0vaUL9/SW779u3RfT7//HP3ox/9yH3jG99w48ePd/fcc49ra2uzGzoJrnYeTp486RYuXOhyc3Od3+93M2bMcD/96U9dZ2en7eBfwY9jAACYGPFfAwIApCYCBAAwQYAAACYIEADABAECAJggQAAAEwQIAGCCAAEATBAgAIAJAgQAMEGAAAAmCBAAwMT/AxD5c53rmF8fAAAAAElFTkSuQmCC\n"
          },
          "metadata": {}
        }
      ]
    },
    {
      "cell_type": "code",
      "source": [],
      "metadata": {
        "id": "kNda7FY4BOr2"
      },
      "execution_count": null,
      "outputs": []
    },
    {
      "cell_type": "markdown",
      "metadata": {
        "id": "5fCEDCU_qrC0"
      },
      "source": [
        "<div class=\"markdown-google-sans\">\n",
        "  <h2>Qu'est-ce que Colab ?</h2>\n",
        "</div>\n",
        "\n",
        "Colab &#40;ou \"Colaboratory\"&#41; vous permet d'écrire et d'exécuter du code Python dans votre navigateur avec\n",
        "- Aucune configuration requise\n",
        "- Accès sans frais aux GPU\n",
        "- Partage facile\n",
        "\n",
        "Que vous soyez <strong>étudiant</strong>, <strong>data scientist</strong> ou <strong>chercheur en IA</strong>, Colab peut vous simplifier la tâche. Regardez la <a href=\"https://www.youtube.com/watch?v=inN8seMm7UI\">présentation de Colab</a> pour en savoir plus ou commencez tout de suite."
      ]
    },
    {
      "cell_type": "markdown",
      "metadata": {
        "id": "GJBs_flRovLc"
      },
      "source": [
        "<div class=\"markdown-google-sans\">\n",
        "\n",
        "## <strong>Premiers pas</strong>\n",
        "</div>\n",
        "\n",
        "Le document que vous consultez n'est pas une page Web statique, mais un environnement interactif appelé <strong>notebook Colab</strong>, qui vous permet d'écrire et d'exécuter du code.\n",
        "\n",
        "Voici par exemple une <strong>cellule de code</strong> avec un bref script en Python qui calcule une valeur, l'enregistre dans une variable et imprime le résultat :"
      ]
    },
    {
      "cell_type": "code",
      "execution_count": null,
      "metadata": {
        "colab": {
          "base_uri": "https://localhost:8080/",
          "height": 34
        },
        "id": "gJr_9dXGpJ05",
        "outputId": "9f556d03-ec67-4950-a485-cfdba9ddd14d"
      },
      "outputs": [
        {
          "data": {
            "text/plain": [
              "86400"
            ]
          },
          "execution_count": 0,
          "metadata": {
            "tags": []
          },
          "output_type": "execute_result"
        }
      ],
      "source": [
        "seconds_in_a_day = 24 * 60 * 60\n",
        "seconds_in_a_day"
      ]
    },
    {
      "cell_type": "markdown",
      "metadata": {
        "id": "2fhs6GZ4qFMx"
      },
      "source": [
        "Pour exécuter le code dans la cellule ci-dessus, sélectionnez-le en cliquant dessus, puis cliquez sur le bouton de lecture à gauche du code ou utilisez le raccourci clavier Commande/Ctrl+Entrée. Pour modifier le code, cliquez simplement sur la cellule.\n",
        "\n",
        "Les variables que vous définissez dans une cellule peuvent être utilisées par la suite dans d'autres cellules :"
      ]
    },
    {
      "cell_type": "code",
      "execution_count": null,
      "metadata": {
        "colab": {
          "base_uri": "https://localhost:8080/",
          "height": 34
        },
        "id": "-gE-Ez1qtyIA",
        "outputId": "94cb2224-0edf-457b-90b5-0ac3488d8a97"
      },
      "outputs": [
        {
          "data": {
            "text/plain": [
              "604800"
            ]
          },
          "execution_count": 0,
          "metadata": {
            "tags": []
          },
          "output_type": "execute_result"
        }
      ],
      "source": [
        "seconds_in_a_week = 7 * seconds_in_a_day\n",
        "seconds_in_a_week"
      ]
    },
    {
      "cell_type": "markdown",
      "metadata": {
        "id": "lSrWNr3MuFUS"
      },
      "source": [
        "Les notebooks Colab vous permettent d'utiliser, dans un même document, du <strong>code exécutable</strong>, du <strong>texte enrichi</strong>, des <strong>images</strong>, du code <strong>HTML</strong>, du code <strong>LaTeX</strong> et bien plus. Lorsque vous créez des notebooks Colab, ils sont enregistrés dans votre compte Google Drive. Vous pouvez facilement les partager avec vos collaborateurs ou vos amis, qui peuvent alors y apporter des commentaires ou même les modifier. Pour en savoir plus, consultez la page <a href=\"/notebooks/basic_features_overview.ipynb\">Présentation de Colaboratory</a>. Pour créer un notebook Colab, utilisez le menu \"Fichier\" ci-dessus ou le lien <a href=\"http://colab.research.google.com#create=true\">Créer un notebook Colab</a>.\n",
        "\n",
        "Les notebooks Colab sont des notebooks Jupyter hébergés par Colab. Pour en savoir plus sur le projet Jupyter, consultez le site Web <a href=\"https://www.jupyter.org\">jupyter.org</a>."
      ]
    },
    {
      "cell_type": "markdown",
      "metadata": {
        "id": "UdRyKR44dcNI"
      },
      "source": [
        "<div class=\"markdown-google-sans\">\n",
        "\n",
        "## Science des données\n",
        "</div>\n",
        "\n",
        "Colab vous permet de tirer pleinement parti des bibliothèques populaires Python pour analyser et visualiser des données. La cellule de code ci-dessous utilise <strong>numpy</strong> pour générer des données aléatoires et <strong>matplotlib</strong> pour les visualiser. Pour modifier le code, cliquez simplement sur la cellule."
      ]
    },
    {
      "cell_type": "code",
      "execution_count": null,
      "metadata": {
        "colab": {
          "base_uri": "https://localhost:8080/",
          "height": 333
        },
        "id": "C4HZx7Gndbrh",
        "outputId": "b113e0f6-8852-4d53-e054-84689232a454"
      },
      "outputs": [
        {
          "data": {
            "text/markdown": [
              "![Sample Visualization](data:image/png;base64,iVBORw0KGgoAAAANSUhEUgAAAZAAAAEsCAYAAADtt+XCAAAAOXRFWHRTb2Z0d2FyZQBNYXRwbG90bGliIHZlcnNpb24zLjcuMSwgaHR0cHM6Ly9tYXRwbG90bGliLm9yZy/bCgiHAAAACXBIWXMAAA9hAAAPYQGoP6dpAABox0lEQVR4nO2deXxU5b3/P7NlkslKICFESHAHQZHFsnh/ispFYotSabWtt4JbrY1lu7aVKrWttWgXrVYutb0Kti5oLIt6rYqssqlJCbKGAEECWYAsM8kksz+/P848Z55z5sySWbJ+36/XvGDmnDnnOZNznu/z3XWMMQaCIAiC6CL6nh4AQRAE0TchAUIQBEHEBAkQgiAIIiZIgBAEQRAxQQKEIAiCiAkSIARBEERMkAAhCIIgYoIECEEQBBETJEAIgiCImCABQhAEQcQECRCCIAgiJkiAEARBEDFBAoQgCIKICRIgBEEQREyQACEIgiBiggQIQRAEERMkQIg+iU6nw/r16/vNeTjz58/HnDlz5PfTp0/HokWLknrO1atXIycnJ6nnIPonJEAITc6dO4eHHnoIRUVFMJvNKCgowM0334ydO3f29NDipqKiAjqdDnv27NHcftNNN+H2228HANTX16OkpKQ7h6dg7dq1ePLJJxN2vJEjR+JPf/qT4rM777wTR48eTdg5iIGDsacHQPRO5s6dC5fLhVdffRUXXXQRGhsbsWnTJjQ1NfX00OJm4sSJGDduHF555RVMmTJFse3kyZPYsmUL3nvvPQBAQUFBTwxRJjc3N+nnSEtLQ1paWtLPQ/RDGEGoaGlpYQDY1q1bw+73xz/+kY0dO5ZZLBY2fPhw9tBDD7G2tjZ5+6pVq1h2djZ777332GWXXcbS0tLY3Llzmd1uZ6tXr2bFxcUsJyeH/fjHP2Yej0f+XnFxMfv1r3/NvvOd7zCLxcIKCwvZiy++qDg3ALZu3Tr5/alTp9i3v/1tlp2dzQYNGsRuvfVWVlNTE3LsL7zwAsvKymJ2u13x+RNPPMEKCwvl8YjncTqdrLS0lBUUFDCz2cyKiorYb3/7W8YYYzU1NQwA27t3b9DvuGXLFsYYYx6Ph917771s5MiRLDU1lV122WXsT3/6k+L88+bNY7fddpv8/vrrr2cLFy5kjDG2ZcsWBiDoNW/ePMYYY8eOHWO33nory8/PZ+np6WzSpEls48aNimOpvyv+nUT+53/+h1100UXMZDKxyy67jP39738P+v3/9re/sTlz5rC0tDR2ySWXsA0bNoT8vYn+CZmwiCAyMjKQkZGB9evXw+l0htxPr9fjhRdewMGDB/Hqq69i8+bN+OlPf6rYp6OjAy+88ALWrFmDDz/8EFu3bsU3v/lNfPDBB/jggw/wj3/8Ay+99BLeeecdxfd+//vfY9y4cdi7dy8effRRLFy4EBs3btQch9vtxs0334zMzEx8+umn2LlzJzIyMjBr1iy4XC7N79x1111wOp2K8zLG8Oqrr2L+/PkwGAxB33nhhRfw7rvv4u2330ZVVRVef/11jBw5MuTvo8bn82H48OEoKyvDoUOH8Itf/AI///nP8fbbb0f1/WnTpqG+vl5+bd68GampqbjuuusAAO3t7bjllluwadMm7N27F7NmzcLs2bNx6tQpAJI5bPjw4fj1r38tH0OLdevWYeHChfjv//5vHDhwAA8++CDuuecebNmyRbHfr371K9xxxx348ssvccstt+Cuu+5Cc3Nz1L8H0Q/oaQlG9E7eeecdNmjQIJaamsqmTZvGli5dyvbt2xf2O2VlZWzw4MHy+1WrVjEA7NixY/JnDz74ILNYLApN5eabb2YPPvig/L64uJjNmjVLcew777yTlZSUyO8haAb/+Mc/2OWXX858Pp+83el0srS0NPbRRx+FHO93vvMddv3118vvN23axACw6upqzfP8+Mc/ZjfeeKPiPJxoNBAtSktL2dy5c+X34TQQkfPnz7OLLrqI/ehHPwp5bMYYGzNmDPvzn/8svy8uLmbPPfecYh+1BjJt2jT2wAMPKPb59re/zW655Rb5PQD2+OOPy+/b29sZAPavf/0r7HiI/gVpIIQmc+fORV1dHd59913MmjULW7duxYQJE7B69Wp5n08++QQ33XQTLrjgAmRmZuL73/8+mpqa0NHRIe9jsVhw8cUXy++HDh2KkSNHIiMjQ/HZ2bNnFeefOnVq0PvDhw9rjnXfvn04duwYMjMzZe0pNzcXDocDx48fD3mN9957L7Zv3y7v88orr+D666/HJZdcorn//PnzUVlZicsvvxwLFizAxx9/HPLYoVixYgUmTpyIvLw8ZGRk4K9//ausIUSL2+3G3LlzUVxcjOeff17+vL29HY888ghGjx6NnJwcZGRk4PDhw10+/uHDh3HttdcqPrv22muDfv+rrrpK/n96ejqysrKC/o5E/4YECBGS1NRU/Od//ieWLVuGXbt2Yf78+XjiiScASM7mb3zjG7jqqqvwz3/+ExUVFVixYgUAKMxGJpNJcUydTqf5mc/ni3mc7e3tmDhxIiorKxWvo0eP4nvf+17I7910000oKirC6tWrYbPZsHbtWtx3330h958wYQJqamrw5JNPorOzE3fccQe+9a1vAZDMeYBkBuO43W7F99esWYNHHnkE9913Hz7++GNUVlbinnvuCWlmC8VDDz2E2tpalJWVwWgMxME88sgjWLduHX7729/i008/RWVlJa688souHz9aEv13JPoeFIVFRM0VV1wh50RUVFTA5/Phj3/8ozx5RmvLjwZ1iO2ePXswevRozX0nTJiAt956C/n5+cjKyor6HHq9Hvfccw9efvllXHDBBUhJSZEFQiiysrJw55134s4778S3vvUtzJo1C83NzcjLywMghf2OHz8eAFBZWan47s6dOzFt2jT86Ec/kj8LpyFp8eyzz+Ltt9/Grl27MHjw4KDjz58/H9/85jcBSIL15MmTin1SUlLg9XrDnmP06NHYuXMn5s2bpzj2FVdc0aWxEv0f0kCIIJqamnDjjTfitddew5dffomamhqUlZXhd7/7HW677TYAwCWXXAK3240///nPOHHiBP7xj3/gL3/5S8LGsHPnTvzud7/D0aNHsWLFCpSVlWHhwoWa+951110YMmQIbrvtNnz66aeoqanB1q1bsWDBApw+fTrsee655x6cOXMGP//5z/Hd7343bDjrs88+izfffBNHjhzB0aNHUVZWhoKCAuTk5CAtLQ1TpkzB008/jcOHD2Pbtm14/PHHFd+/9NJLUV5ejo8++ghHjx7FsmXL8MUXX0T9m3zyySf46U9/it///vcYMmQIGhoa0NDQAKvVKh9/7dq1qKysxL59+/C9730vSCMYOXIktm/fjjNnzuD8+fOa5/nJT36C1atXY+XKlaiursazzz6LtWvX4pFHHol6rMTAgAQIEURGRgYmT56M5557Dtdddx3Gjh2LZcuW4YEHHsCLL74IABg3bhyeffZZPPPMMxg7dixef/11LF++PGFj+O///m+Ul5dj/Pjx+M1vfoNnn30WN998s+a+FosF27dvR1FREW6//XaMHj0a9913HxwOR0SNpKioCDNmzEBLSwvuvffesPtmZmbid7/7HSZNmoRrrrkGJ0+exAcffCBrYK+88go8Hg8mTpyIRYsW4Te/+Y3i+w8++CBuv/123HnnnZg8eTKampoU2kgkduzYAa/Xix/+8IcYNmyY/OKC9dlnn8WgQYMwbdo0zJ49GzfffDMmTJigOMavf/1rnDx5EhdffLGsNamZM2cOnn/+efzhD3/AmDFj8NJLL2HVqlWYPn161GMlBgY6JhptCaIXMHLkSCxatCjpJTwIgogP0kAIgiCImCABQhAEQcQEmbAIgiCImCANhCAIgogJEiAEQRBETJAAIQiCIGKiX2Si+3w+1NXVITMzEzqdrqeHQxAEETeMMbS1taGwsFDONept9AsBUldXhxEjRvT0MAiCIBJObW0thg8f3tPD0KRfCJDMzEwA0g/dlVpIBEEQvRWbzYYRI0bI81tvpF8IEG62ysrKIgFCEES/ojeb5XunYY0gCILo9ZAAIQiCIGKCBAhBEAQREyRACIIgiJggAUIQBEHEBAkQgiAIIiZIgBAE0Wtpsbvwv5+ewLk2Z08PhdCABAhBEL2W1btO4jf/dxiv7jrZ00MhNCABQhBEr+VMaycAoKXD1cMjIbQgAUIQRK/lfLtkunJ5fD08EkKLuATI8uXLcc011yAzMxP5+fmYM2cOqqqqFPs4HA6UlpZi8ODByMjIwNy5c9HY2Chv37dvH7773e9ixIgRSEtLw+jRo/H888/HMyyCIPoJTe2S5uEkAdIriUuAbNu2DaWlpdizZw82btwIt9uNmTNnwm63y/ssXrwY7733HsrKyrBt2zbU1dXh9ttvl7dXVFQgPz8fr732Gg4ePIjHHnsMS5cuxYsvvhjP0AiC6AeQBtK7SWhP9HPnziE/Px/btm3DddddB6vViry8PLzxxhv41re+BQA4cuQIRo8ejd27d2PKlCmaxyktLcXhw4exefPmqM5rs9mQnZ0Nq9VKxRQJop/AGMPlj38Il9eHGy7Pw6p7vtbTQ+pW+sK8llAfiNVqBQDk5uYCkLQLt9uNGTNmyPuMGjUKRUVF2L17d9jj8GNo4XQ6YbPZFC+CIPoXbU4PXF5J8yATVu8kYQLE5/Nh0aJFuPbaazF27FgAQENDA1JSUpCTk6PYd+jQoWhoaNA8zq5du/DWW2/hBz/4QchzLV++HNnZ2fKLmkkRA516ayf+tv0ErJ3unh5Kwjgv5H6QCat3kjABUlpaigMHDmDNmjUxH+PAgQO47bbb8MQTT2DmzJkh91u6dCmsVqv8qq2tjfmcBNEf+MvW43jqg8P4Z8Xpnh5KwmiyB0J3SQPpnSREgDz88MN4//33sWXLFkXrxYKCArhcLrS2tir2b2xsREFBgeKzQ4cO4aabbsIPfvADPP7442HPZzab5eZR1ESK6CtYO9x4fP1+VHzVkvBjn/M7m8/2o4xtUQNxerw9OBIiFHEJEMYYHn74Yaxbtw6bN2/GhRdeqNg+ceJEmEwmbNq0Sf6sqqoKp06dwtSpU+XPDh48iBtuuAHz5s3DU089Fc+QCKLX8tGhBry25xRWbj2W8GO3O73+f/uRCUvQQMiE1TuJq6VtaWkp3njjDWzYsAGZmZmyXyM7OxtpaWnIzs7GfffdhyVLliA3NxdZWVn48Y9/jKlTp8oRWAcOHMCNN96Im2++GUuWLJGPYTAYkJeXF+flEUTvweb3TzTbE59V3e6Qjt3m8CT82D2FUgMhAdIbiUuArFy5EgAwffp0xeerVq3C/PnzAQDPPfcc9Ho95s6dC6fTiZtvvhn/8z//I+/7zjvv4Ny5c3jttdfw2muvyZ8XFxfj5MmT8QyPIHoV7U5pcrclYZK3+zWQ/iRAmuwkQHo7cQmQaFJIUlNTsWLFCqxYsUJz+y9/+Uv88pe/jGcYBNEnsPsFSDIipbhwanP0IxNWG5mwejtUC4sgugnup0iGALG7uADprxoIOdF7IyRACKKb4BqIy+ODw524CZExhnZH/xMg59sDGojby+DzJaxoBpEgSIAQRDfBBQgQcKgnAqfHB49/cu1XJqx2ZUgyz0oneg8kQAiim2gXBUgCJ3pRMLU7PVH5Jns7Drc3SJtyukmA9DZIgBBEN9HhCpitEukHEQWTjwF2V9/3F/BQZ53OB0ASiE5v37+u/saAFSCMMUz57SaMXvYhztocPT2cqDlxrh0lz3+K9XvP9PRQiC6iNGElzlchChCgd5qx/rH7JEqe/zTqZ433AUkxOaHXS4KDNJDex4AVIDqdDh0uDzrdXrQ5+47jcWvVORyut+HV3Sd7eihEFxEn+kRqIDwHRD5PL3Sk//PfZ3C43obdJ5qi2p/7P1JMTuh1VJG3tzJgBQgAZKaaAPStyBU+8Ryss1FsfB/DniQfiLp8STISFeOlwx9mrNaWQhEQIC7o9dJ9Tvd772OACxApj7I3rthCwQWIy+NDVUNb/MfrcOMv246j3toZ97GI0Ph8TOGbsHYkUoAoNZDeaMLiWlK0zxoP4TWbnDBwExblgvQ6BrQAyTBLAqQ3PnChEMM/K2vjr+paVlGLp/91BH/Zelzx+UcHG7D4rUp55dhTvLuvDlN+uwn7T1t7dBzx0qHK+0hWFBbQOzXqrmogTaIJS08mrN7KgBYgXAPpSz4Qq0KAxD+p8miXRpsy5n7FlmNYt/cMdlSfj/sc8fC/n55Ag82BDw/W9+g44kU9ySfWB6I8drSTdHfCta9ohZtswkpxRjRhHaqzoeKr5gSMkugqA1qAZPh9IH3JhCWuXPedbo37eDy0VD2hccGSjMqx0dJid2H/GUlI1rf2nUg5LdSTfCKjsNSTcm/TqN1enzz5q3+HUPBmUpITnZuwggUIYwz/9fJn+O5f9/Srbox9hQEtQGQNpA8JEPEhOX6uPW5TCC+poX74uI2+JYG2+q6y63gTeE5cXR/30agjpZKpgfS2+1nMf4lWOzrnL+VuVpiwgn0gTo8PzXYXXF6GBmvfXmT0RQa2APH7QPpSE57AxMPAGHAgTt+Algbi8fpks15rZ89pIDuOnZP/X9/HJwf1xJlQH4jsp+LlTHqbAFFmykeDQgMJY8ISj9fU3n+6MfYVBrYA6cMaSFZGKwCgMk4zVqdfAxGd82IYaKu9Z4QrYwyfCv6X+lZHny6mF9ASpGtIpAbC719ziiRkEymcEoGofUXzrPl8TDadKhIJNQSIqH2d70Fz60BlQAsQOQqrFzodtXB6vHD4s3GH5Eir8321rXEds5M7N50eePzF6sTJraWjZx7Kr5o6cLqlUy5l4fL65FVpX4RrCan+ST4ZJix+7N7m0+vsogmrtdMNr3+xkGJyyYmEkTSQZtJAup0BLUD6WiKhaL4aLAuQeE1YYnKb32wlCI3WHnJMfnpM0j5yMpthNkkTQ1/OVeETXaq5U36fKI2Kr/D5sXvb/WwXTVhRjI2booxGF/R6BkMYH4io3fTlBUZfZUALkAw5kbB3qfyh4JE7RoPbb8JiaLA54nIedgr1hbiAElfHrT2kgeyolgTk4Jxz8sRY14cjsQJagnQtjCVuoucatNl/7LZe5tPrqg/kXHvAgQ4gbC0shQmrnQRIdxOXAFm+fDmuueYaZGZmIj8/H3PmzEFVVZViH4fDgdLSUgwePBgZGRmYO3cuGhsbFfssWLAAEydOhNlsxtVXXx3PkLpEprlv+UD4xG4yumE0eJFhsQGIL5y3U3i4tQRIT0Rhebw+7Dou1UwSBUjf1kCkSdBkckGv573RE/PbysLJLAnY3nY/i1pCNJqXWEgRQMCJrtEPRGHCspMJq7uJS4Bs27YNpaWl2LNnDzZu3Ai3242ZM2fCbrfL+yxevBjvvfceysrKsG3bNtTV1eH2228POta9996LO++8M57hdBluwuqNiVda2AQBAgDZfkf6wTpbzMfsFDKktQSItcPd7f0lvjxjRZvDA6PRheyMVnnVHioSy+709PoyFx3+e8xg8Mh/v0T5QdTaTW8TIOpqBvYI1Q241st/p3DFFO2KKCzSQLobYzxf/vDDDxXvV69ejfz8fFRUVOC6666D1WrFyy+/jDfeeAM33ngjAGDVqlUYPXo09uzZgylTpgAAXnjhBQDAuXPn8OWXX8YzpC6R0cdqYfEJx+h/sFJSpBVXPIljYow+f3BbBa3D5fWhw+VFujmuW6VLVJyUSrTkZjVBp4NgwgrWQFweH27841ZkmI34ZMn10Ol03TbOrsAnTaPBA6PBDSfSEtaVsF2lgfS2+zmoWrDTIy/etOC+OFmAyCas4EWCIoyXfCDdTkJ9IFar5NDNzc0FAFRUVMDtdmPGjBnyPqNGjUJRURF2794d83mcTidsNpviFQtyMUVX4hyaycSq0kB4kbkOZ+yrb7E3t01DAwG6PxKLn48LjnAC5Hy7E402J46fs+N0S+81cXETljGCBnK43oYNldH3enF7ffLKnGsgLm9ie67Hi1oDiSTguGnPKAuQ0CYscQHUE3kgp1s68Oquk4pIs4FEwgSIz+fDokWLcO2112Ls2LEAgIaGBqSkpCAnJ0ex79ChQ9HQ0BDzuZYvX47s7Gz5NWLEiJiOw8N4GYusVvcGbCoNxGiQxqwu1Bctbq8Pbm9AcPIJrVXl91C/TzbcLMGvL+ADCTZhiWaNeEx5ycauYcLS8oEseHMvFq6pxGdR9s0QTThSHkjvSyZUd0iMFDbPx240KAVIJCe6zeHp9pLvz358FE+8exAf7O/btdpiJWECpLS0FAcOHMCaNWsSdciQLF26FFarVX7V1tbGdJxUk0G2r/amBy4UoTWQ2MbeoXqwtXwgQPcLEHG1DgRW1o02h5yrwhFX2ofre68AaReEojGEBmJ3elB9th0AsPN4dAKEH1ev90KvZ/JvFs6syRjDq7tOdlsBQvX9GVEDUd3n4Xwgav9ld2vLjW3Soub8AM1BSYgAefjhh/H+++9jy5YtGD58uPx5QUEBXC4XWltbFfs3NjaioKAg5vOZzWZkZWUpXrFiNHatzHRPEhAg0kNi4BpIjOqz2szBBYVVVb6kux9KXlqGX585xQmdzgcfA862KR/UviJAAhqIN6CBqAoqHm0M9Hf5vKZrAoQLDr5qD7cgOlhnwxPvHsTP/rk/ytHHh1oDifSscR8IfzajzUQHAhO5w+3Fkrcq8a8kawZcGMb6DPZ14hIgjDE8/PDDWLduHTZv3owLL7xQsX3ixIkwmUzYtGmT/FlVVRVOnTqFqVOnxnPqhGEy8DLTvSt2XgtZgBj4BOvXQGI0v0XSQPhk1N3JhHaVBqLTBcp0qEN5HYJZ41AfECDciQ4EayBHhAZhe0+1RhVZJprGgOgWRLxMiJZPSYt9ta14bc9XMUfjddUHwp9F/juFSyRUN9PikVifHG7E2r1n8NQHh2Mac7RwQd3Zi3xO3UlcoTWlpaV44403sGHDBmRmZsp+jezsbKSlpSE7Oxv33XcflixZgtzcXGRlZeHHP/4xpk6dKkdgAcCxY8fQ3t6OhoYGdHZ2orKyEgBwxRVXICUlJZ4hRsRk5Cp/39FAjGoTVoyrH7XjT+0DsaTaYbPnoLWbo1vUq2pA8oM4nBbUtTowsTiwrzipnG7phM3hRlaYCJ+egq/Cw/lAxA6TTo8P+09bMWlkbtjjqs190Ziw+P3S4fKiw+WBJSX8NPDY+v04cMaG0cMyMbE4/Hi0UEdhRfKBBJmwwjSUUmsgXDiePC+lEpxu6cT5dieGZJi7PO5o4NcSbZn6/kZcGsjKlSthtVoxffp0DBs2TH699dZb8j7PPfccvvGNb2Du3Lm47rrrUFBQgLVr1yqOc//992P8+PF46aWXcPToUYwfPx7jx49HXV1dPMOLCmMfFCCyDyROE1anW7vJEf/XkiY9hN2dTBhYVQfOy/0g6lWzQ+VYPVIff5vfZCBqIKGisLgJjptsPquJ7KNQBxwYZeEU+n4W/+7n2yIvDlr8BTVrzndE3FcLroGYjJJ5KXIUlsqJ7u8HouUg58Ev/F7hJixxrPHWiwsHF9QUhRUDjDHN1/z58+V9UlNTsWLFCjQ3N8Nut2Pt2rVB/o+tW7dqHmfkyJHxDC8qTH3IByJHp8hRWIk1Ydk63XC4vfJKz5IqCZDuLukeSgMBgiOx1GaNQ3W9r/Wtz8fk3zqUE50xhiq/D2TYECmM9/MoBAifjA0hfCAH66zYfERZ+UHUCM5Hkb3N74doTV5q+Pm4GTJS+wTZhCX7QCI70S2pksDguSBfNQWSmSu7KEBe3lGDf+z5KuJ+bq9PXsD0hSjOZDCga2EBfdQHIpuw4tRA/N/jK8PWTrd8Dh18SDVLD2X3R2EFC5C0ELkg6kCAw71QAxEnF4UJSxAgjTYnWjvc0MGH4QUnAQAVX7UERZ2pCfxWytDudocHjDHcu/oL3Lu6XPG7iavl823RCBBp/zOqPJtjZ9tw1ha5PlmHqhJxuMWayxOYlNUmLJdmMUXpWGn+xU6z3wdyMkYB0uZw48n3D+GJDQci5tKIZityog9QZA2kl5uwPF6f/OAFTFiB6BRvDImQ3PHHM5g7XF65E5zJ5EaKSXoYuzMKizEWMMsYBQ0kRDkTvirV+c0chxt6nyOdr8B18EGv8wkaSOD6jvjHbUmzIzujFUaDC+1OT8TAgFAmrDaHG6dbOuVe9+cEQSFOdtEUIJQ1ECGA4Xy7E7e8sAMznt2GQxHyb7j/h2sg4czF4kIukAcSLgpL2hbQQJxoc7gV17WvtjXqRGH+jPmiKHYpbicBMkAxGgP9MHozok3bqNJAgNjMWJ2qBxsAapulB9FocMvhwt2pgTjcUrguEDDLAAhZUJGvErMyJNPVkYa2iKv27qZdiJTS6QJRdKITnUdgZabboNMBg7Ik81UkM1a7EB4MACbZie6R+8kDSi2oQ/CBRMreZozJvgdRAzlcb4PL44PN4cH3X/kMNeftoQ4h54GYo9BAbLJJzg1elSaUCYsxJl+XxSydv8nuwldN0j1sMrqg13thc3hQ0xR6fCJd6V0SToDUNncowrL7KwNegPSVKCxuWjIY3NDrpBlWerCk/8fixFPY5f2T2im/ADGZXLKm050l3QOlyJkcZQYEtKTz7S6FaYGbOzLS2mDQS5nI4SaznkCtJfDfVTLXSNdyxK9p8ArLg7KkPJBIjnS1uc/ANRCnG18K7Y5Fv4fChBVBgIiT9pnWTjmU96TwGze1u3DX/+7R9JH4fEyulGBOiexEt6lC1QGEbCjV4fKCRxanpXXIY+Hmq/S0dmSltwIAKk+1hr1OjhiOG224MaCsag0A3/7Lbtz64o5e1x0y0ZAAEWzGvRl1Dggg5UfwVbo6WSsa+MNi0HtkbeMrLkCMAROWtdPdbbXC+ETHV+scvpoEoOh/widgg8GLzHRp8u1t+SCBSCHxX+n35BOmqIEAwKBsSYB8cbI57G9vV/lARA3kgKCBiBqqwokewYQlChCnxyeHyfIop8K8WlhS21HX6sCja4MTEx2ewCQfjQ+kTZVECATC1dUBE2Kb4DQzFyBOWQOxpNqRndkKIHo/iLg4ieQXFa9DfP6cHi8abA443L6YAw/6CiRAZBNW8M3icHvx5uenekUfCnUdLI5RzgWJ3YRlMHjl455qCggQvlL2se7rs61erXN0OiGUV/h78AlOrw8IkN7mSNdKjBRDed1eH46fk0qYZPo1kKx0KwCG1g633GBJC9E8Jp0jEMarMGGJGogYxhtRA1FO2mf8EyJf5edkNWP86M8BADuPndcoz8K/z4Tq0eFMWMH3uWjCEpMZRe2L9w6xu7yyMJb8SVJl52h75oimqGhrdgFKrU78rZv7eYn5AS9AjGGc6B/sr8fStfvx+4+qgrZ1N+oILE48uSD8OwZ9oLzGV812/3lc0Ot9sp+lu/wgWhFYHD5JWIWxyBqI3ofMdGnC7HUaiHxNgb+RUUgmPHHODreXwWBwy74evZ5pRmupCSpl4r+fqxvbFJO5uMDo6IoJS5Vnw1fU3IRlSbUjw9KO9LQ2eH0Mn/o7SarPa9B7ZeEWXgPRMGH5BQhjgEfQxkRt1WjwQOc3df37qxb/2NqRkyn9/3C9LaoKxQofSCQTlkID8cjCTfze+X5eYn7ACxBR5VfD6y7F0zI2UYQWILFno3cK5h9+XN42lr83dXMkljqvQUTrWrkPRK/3yqv3ql4WiaXWEoDABGntdMsRWJmWNoXZzhgiY11Erd3wSVp9P4ir4q5EYakd16dbOuHx+mRfmSVN0pzyBkm5JpsPn9U8r0Hws7U7PSHLoshtmwUTFk8kVI9HFJ46XWCBwbUkS6odqeZOpJiccHtZVNWaO7tgwhK3MxYYm6JLYj8vskgChDvRNVZFPHokUZ3jRMpPNuOh1yrkmz0SIQWIX0NQO/GioVNYHXIfCA8H5pNXd0diiY2X1MilW9xKezPflm6RTBeNNmevyuvRMsuJBRW5yY2b4OR9DIF9oj22OPGKiBqIuMq2drrDlkBXm7DqWh2SEPEx6PVe2a+RlysJkK1HzylCyjvERlr+sXl9LKiCAMemqoMFBDQQQNlUSl0HjAsQjiXNDp0OshkrGj+IqKVEisJSayh8PAOpyRUJEO4D0ZhweJ2hZAiQv+/+Cv860ID390VXriWUD4SvytX1hqJBdKKrj8sFRwqPxAqTje71MazbexqNUSSVRSKcCYtfq0NTA/HBZPQgxSSN4fi53hOJpZ7ogMDfcfWuk/jfT08AADL9EUPqfcJpIG0hfCAcs99vJIbxqrOmm8NMcmoN5ExrhxwSa0m1yxpTTmYzjAY3mu0uhb/BLvjZpAWA38wTYnLmlgBxoaTTQTZPiU2l1IsNHvQhfd8pLw6z/Wasg2ciVynojNEHAgQ0OzHTngRIP4ffZA63D26vOkxQ2pao1qMifFII9/CKRPSBxFANlN/wesGExTGpNBBeD0mLNz77Covf2ocn3z/U5TGoaXeEESAamfeiBgIAGX4t5Ji/r0ZvQF3wEAj8rpW1rfD4GPJz63FB/mnF94xR+ECCNBDV75brDwfuCBHGC4T3gwT7QBwK/wdHr2cYnCOZr7YcCZixxF7wOp2QKR9icpYXSipBGGhrKwgQ1e8qaiC8jhsAOUJLqyGZmo4uhPGqryEgQMiJPmAQHZvqipp89dTmTHzLW35zRutbCESnKPc3xtFUqlPDic5R+0DC5YL8n7/nQldrDmmhtVrncCHRqcgD8QtB/7Z0v02+NwkQrWviznKT0YmrLivH1aO+UJhqADHhUPtv6xVrbMl1o5gsaHU6r7z6Fic7eeHg/83CChC/gOYaQF1rZ0CApCl/Y27G2iwIEP4MGfVKDSnU5KwVhQVoN5USe6wASg1EFG48hygaDVnUbruSiQ4EFpzitTVFUWusLxNXOff+AH/gvD4j2hwe5FgC5eP5Dcr8ZQ2yLYkrE94mC5DotButPBAgviisgBPdA0Cn2MZXyLIPJMQquMXukrOlE1FOXWu1zuEThejvCYTxSv+m90INRMuvUzysBqnmTuQNOquY+EQiRWGpa2xxjAbpfs5Mt8nHEO8PvnBIM3fA3pkZ1pEuFta0d2aiye7CYX+YbHqq0kyYN+gsAMlZ3WB1oCA7NRCFZRAEnUs7bB4ICEuTypdj0PvghjKZUG3uVGggwth4Bnw0AqSzCz4Qtdm7k0xYAxNDiEgsUSNJtB+E35zRZnmHdqInIA9EcKJzAiYs6d9Qgm7TkbMQlTOxp0UshMoD4eMEtDUQ2YTlXxWfOBdZgPxl23HMe+VzOQoqWWhdk9HowQX5p0MKD2mf8D4Qflydziev0MXvZWdYhURT6V+31yf7EfgkG14DkfZNMTnlkul7T/nDZNOUAiTF5JId1luqzvrHKC5SlMUetYhowvIEWwy0nOji2LgAsbu8EYMrupKJrhYwdg0TVhOZsPo/oZrwdKiiVRIJP1eXNZAkhfEGO9GjM2F9dLBB8T7etrJaIa8cLW1LDOMFAiasr5o7wkYXfXGyGU//6wi2HT2H217ciTWfnwoKLbU53Hjg7+V4/0vtQAfGGFZuPY67/nePorSHGvUkGi2heqcHjqsMY1V/Lyu9Vb63uQ9E/O3SUgPZ26FwCvcIr4js9kq/kyU1+JqHDJIEx2cn/L4XlfZliOADUbcs4AQq8kbnRBfHZjQEclB4cclQiL9PpORZPla97JsLFo48UbS/QgIEgZs1aEUhvE9kJjZjrOsaSEeoKCwexpuYRELpvUd+YFPChPF2urxy4ljeIEmQxJsFHi4KiwsJRxgNxJzigMHghtfHFCW9RdxeHx5bJ5XdSDE54fT48Oja/fj5ugOK/TYebMTGQ4342/YTQcdgjOHpD4/gmQ+PYOexJty7+ouQf8twQjEcPEcpVBhvW4icmZGFx5GfW4+hQ+qCNBB+n+jgk0NwozFh6XU+2W8DSPeIWISTk2GRBPhpf+FFWXjquWkyfDKhTSORkJ9fHI90DKVgFjWQdJV2FK0Zq0thvHKRSOm8WlFYgGTm7a+QAIGogahV0uSYsDpcXtns09rhjthr2udjckhhKBNWLA1txFIm4nFFIWUycU0p+CHYXn0ODrcPaWY7huVJEUTxaiBhnega2pbaB6LTBcxYofwgL++owdHGdpiMTlw7fgsuKz4EgOHNz0/J1YgBoNr/fbWWyBjD0/86gpe2SYLFZHThxHk7fvhaRdiueWLARjRENmFp+4sKhtRj/OgvYDJ6hKZjSlOnweCVS4tEY8LS6wMaCCD139DpgvfnPWR4flOHqg5YqGcNkO5zeQGh8oGEM2HxY1pSO6DTSfej+jlJjVKARFuNlzEmWxG4cOK/sTqkvj/7QUiAQOihoA7LE26ERAoQ8cb0CMIhFG1Oj1yQTv1gGDXMOtHgEWzhgTITLOgc4RIJPz4oRd3k5zbISXBVDW1xRayFmkD4OIHwPhAg4Eg/riFATrd04PlPqgEAl488hBSTCxcOPyZXwRVLcHMBpNYs3vy8Fi/5tZLRF32Ja8buhMHgxp4TzXhs3f6gBUE4v044IjnRw2lrHB6Rxccga52GQM4M10DcXh82H2lUTKKBMOlAgzEgeIXP4UKm0eaA2+sLRGGpfSAa93y7K3CfhzJhhcpEByQT1pRx23HN2F1Bx+aTfEMkAaLIRA+dMe/0+GRTXqr/d+SRkOrnOdpQ/b5IXAJk+fLluOaaa5CZmYn8/HzMmTMHVVXKulEOhwOlpaUYPHgwMjIyMHfuXDQ2Kltsnjp1Cl//+tdhsViQn5+Pn/zkJ/B4ur6ijhUtH4jYawBIrABRr75ahRyLX713EHe/8rlCleYTiF4wLXFi9YGID4pBz2P0lbkf4v/bnR7UNndgQ+UZrNpZg7/vPolNh/0CZHAD0tPaodd70en2yhV9YyGaREI+wTHGgjQQQAjl1XCk/3nTMXS6vRiUdR6F+bXy55l+oVOlECDS/20Oj6LHyM5j5wEAIy84hqJhJ5GZ3oZxl1cAYCirOI1yfy0m9TV12QcSIYw3nLbG4ducHh88Xp+QPOqF2aTUQF7YVI17V5fj1d0n5e87BR+TaMLS8n8AkhlJr5M07AarQ8gDUYYbazmo5ftc54VBdZ9rCRCt689KtyEtNbi6g9k/9rMRfCCdQp5JuIx58RnmmhzPIWlXaYyR6o31ZeISINu2bUNpaSn27NmDjRs3wu12Y+bMmbDbAzfX4sWL8d5776GsrAzbtm1DXV0dbr/9dnm71+vF17/+dbhcLuzatQuvvvoqVq9ejV/84hfxDK1LaMWmi42NgEQLEOWxmjsCZUT+vvsrbD96TuGcDuVAB2JvaxsQIEx+OLm5SqmBBDST//e7LVi4phK/eu8QfrHhIFo73TAZncjJapZMR/5V/JE4zFhdicISJxNRAwlnwjpYL2UjFxeeUJhgMvwa1FF/FJnD7ZXrPQHKSZyvKHnxRkAKYb0g/xQA4HWhn7Y4CcWjgWithKPRQBR5Ti6vIneCO52b7S74fAwbKqVggdMtgesWBbRowlLngHB0ukCOy+mWzkApe71yrFoaSKAOVvB9rtWVsCuanayBREgmVJcEChVuHFgUuAP1x5xc25PGyhdfpIGE4MMPP8T8+fMxZswYjBs3DqtXr8apU6dQUVEBALBarXj55Zfx7LPP4sYbb8TEiROxatUq7Nq1C3v27AEAfPzxxzh06BBee+01XH311SgpKcGTTz6JFStWwOXqnh9e66ZW+xQSmY2ufni4f6HZ7pLrCK399xl5O68uqxXyqZUbEQ1iCC+fSE2GYAGi0wVW9ABDVkYLCgafwdDBdRg6uA5jLtknN7jixQzj8YMEIpYiC0sxK1mvZcI6164wpzHG5F4RahMMz2DnpcBrztsVCwjRjMX/Ximq0OcR/l7m/7e/Xp40xPuoqwKET6QeH1NojJxQIa8iOp1PTgLscHmEv3ugBLrXx7DnRJMsMLUy/SUNRDBhhdBAgIAZ60xrp6JpGRD4u2r5QNrkOlgaARQaTaXUTvRwpMZgwgJCh/KKY1VbAfjzzfu09+dQ3oQmElqt0oosNzcXAFBRUQG3240ZM2bI+4waNQpFRUXYvXs3pkyZgt27d+PKK6/E0KFD5X1uvvlmPPTQQzh48CDGjx8fdB6n0wmnM6AW2mzxOW61uhJ2qBxhCfWBqE1Y/glJdPB9Wn0OZ20O5GWasWrnSQBAwZAzUCPbuLuogXQIDnSOunwJZ9KY3bB3Zki9ukMU6wMCxQAPx5gL4vR4Zb9MNLWwHJ6AFqXTBWb7tNQO6HReONzSJDYi1wJA+hvyv3GaWWlm4wJEKq3uC9JeREc6FyAmlUDPzrQiK70VNnsOyspr8eD1FytyNXQ6bXNIKCTh7gNjetg6PbCkKB9XXi1aKxqKw5uOeTwpsDu9ir+7VDLeBbcnBa9/dkr+jkNRrFKIwkpxwGhww+szIN0SOs9GdqS3dAZliwcWa8HPUyCJUGvxwE1YoZ3o4eC/0dmITnTl3yhUNnqg5I47qJwQFy6WVDts7YPIiR4NPp8PixYtwrXXXouxY8cCABoaGpCSkoKcnBzFvkOHDkVDQ4O8jyg8+Ha+TYvly5cjOztbfo0YMSKusWutitRaQkJNWGoNxO8DOdsWuLl9DHh3Xx12n2jC4XobDHoPhg/9CmrUfoFoEQspcniZFLUJIdXswOCc82GFByAIkBg1EDF6xaARsSRW42WMKRzoojlKr2OyhnFc8INw7cNscgQdP83cIbXE9frwVZNdjsDiWP3FJBlj8t9LrYEAwIhhJwEAb3x+Cj4fU9jptaKWwiH6pbQisfiCg4eRhsIo5Cl0uJWrdq6FiCZThRPdzQMtfNDpgAlX7MGEKz4LmwDJfRBnWjsUTntA8IFomLDaQpQxAYJrYXkFrSwaAcI1kLNtzrBBHurSOCHzVYRgD7GckOQ7ld5b/Hk2zf24nEnCBEhpaSkOHDiANWvWJOqQIVm6dCmsVqv8qq2tjfylMGg50dWZ3Yk0YQU50WUNRLrRdJAekrX/PoNXdtQAAArza5FiCh4DH7vY0CYaOjU0kGF5Z5CeZpNrGnUV7gPhJU26Cp9s9XqPbBYT4WP1+hjcXhaURCiiVROLm2jSNCKIRB9OVUN7UAQXj0LrcAW0JLUGAkhaotHgxldNHfj4UAPWfC7dm101X3HCRWJFo4EAyorN3NTJJz0uQDyKEuzaJiwAGJTVgiE558KeTwzllbUEtQ8kjBNdyySnV1XjDVXGJRTSdTJ4fCykRsAYk597sz+yKpQGIic8GjyKBFeH2yeboS0DwISVEAHy8MMP4/3338eWLVswfPhw+fOCggK4XC60trYq9m9sbERBQYG8jzoqi7/n+6gxm83IyspSvOJBK5FQbRJKpgmLm0d4hEj+4AbodF4cqrfhE3+DnuJhwclsQECDEBvaRIPoA+EMHdyA/5iwFVnpsWkQKSa33HY2lpImkZzCorbU6fIqQkzVpKcF/CAcuQmSWTtKLEOIxKr2R2AZDbyhlvQ34r4NKVIoWHAZDV45uuuHr/0b/+tfAORmn9c8ZyTCZaOflTWQSAIkoIEEfEz+xEsh+U6nC07U1Ipyi4TsA2npDDKVhkskDGfCkqOw/IuGUGVcQqHXM1lYhsoFcXkDgTNmuf1uCCe60LckUE7IK1wXkzP9yYkeAsYYHn74Yaxbtw6bN2/GhRdeqNg+ceJEmEwmbNq0Sf6sqqoKp06dwtSpUwEAU6dOxf79+3H2bKCC58aNG5GVlYUrrrginuFFjVZyU8C+Kv3xQ4VSxgK3//JOa9ym3ug3YWVY2hRaQN6gBqRbtJ2WogbRlUisDpWqnih4ZNL/fVnf5RIOkWzaej2T/Qidbm9YDUTtFAcC/d7TQjiAM9KlfQ/V2VDjL00yKEsqFGntUHZmNJlcIU1SIwoCpkZLajvGXf4Fxl5Sqb1zBORsdNVE5vMxuVd6JAES0FK9QabLFMH8xe857UTN6O8T7l/ijaeA6BIJwzrReSkTL9emum4ajJRM6BD8Hyn+fSOXXBGd6B7NPu0UxhuC0tJSvPbaa3jjjTeQmZmJhoYGNDQ0oLNTWoFkZ2fjvvvuw5IlS7BlyxZUVFTgnnvuwdSpUzFlyhQAwMyZM3HFFVfg+9//Pvbt24ePPvoIjz/+OEpLS2E2m+O/wigwadhl+Q3KQxKtIUIpY0F25PpXKK2yBhJYURbmBXpDFBdqax+AZHrhD7e6HH04HKromEQx2G/eWL3rJP7z2W34l7/Ueyg+O9Ekawnq5khaiMUj1fZqkSy/IDtcb5NNCrIGkqqtgfAosh3Hzkk9yvUe2a/DqxFzTUQdaCCSYWnD+FGf48rLKnDt+C0oGFLfZf8HJ9ATJDhyjyeymU3hJyiDYKNXV8cVy38M8wdpiJFIci2sLmggkkBjCrOYOg/E6fEFZe1HFcbr5m1j/cfTR3//Rkom5Net0/lk/1aoKCxRUIgmLLElM/cT2RyesHXZ+jJxCZCVK1fCarVi+vTpGDZsmPx666235H2ee+45fOMb38DcuXNx3XXXoaCgAGvXrpW3GwwGvP/++zAYDJg6dSr+67/+C3fffTd+/etfxzO0LhFwogeEBF+FcXXc62NdjnQKBZ8o+UqNr2pFm3beoEbkDWrAsLzaiOYPua1tF5pK8Ykk0RpI0bAajL7oS6SYnDjZ1IGHXv83PjygHQzxr/31uPOve3DPqi8ARBdVI+aCaGWhcyxpdhj0HjjcPrkyb0CAhNBALDwHxF8aPq090FDLLzh4XaNwTmRAMkMW5p2BXh/foiNUUyl+r5iMzojnEAsYdriUGghfIGVntMh+I+0orOjvE72eyaZM6b1X9mmJiwP1gidULxDpGMpEwmiSKNUE6mFpC1wxyVLWlELW7BKisDRMWEaDx3/vSNcdbd+fvkZcYbzRrMhTU1OxYsUKrFixIuQ+xcXF+OCDD+IZSlxwm6vbKwmJDLNRvhEkU4UXjBlg7XQjwxx/5HN7CA2kUdBA9HqGCVd8HtXxDAYv3J6uaSCBaJzEChCdDigadhKFebU4dOIq1J8bgVd3ncSssUp/1umWDvzsn18CkCZ2a6c7KgGiN3gBN/eBhLbP63RSVFhrWy4O1tlQPDgddVZpUksLoYGkmJwwGZ1weyTNN93SFlSNmNuztSKwkoEpRD2saB3ogLLcjTp4omBIHTo601EwpC6qWmPRkpraCYdLCp8WfVd6XaD/TrvTg0Hpgf47cjvbKPJAYikPIzeWCpFMKGtneq+sKYUM4xWjsISCpqIA0emkhYbLbUZTuwtDs1KjHmtfgWphQbphZH+Ef4IQy1Dzh9gaZen1SAQSjQIaiNfHcI5PCqau9RYXb+BocWg40ROJ0ejFpUVHADDsPtGkKHfu8fqwaE2lwq9Uc94esrqsiKhthdNAgIA/5mCdFadbOsCYMoFOjRSJFfCZZFjaAn972YSlnQOSLOSuhCoTVrQhvIAQheXyKHqUA5Jp6tLiKmSmtym0O744VEdhRYuYta6e5EP13wmngfCx8fHEUqAykglLNokK5d9D+0ACVYP5b+ny+uT7Q93kqr860kmAQJo4AitN6cYQK52GWgXGCr/5uAmrw+VFXWunPwKEISWlazebqEKr8fmYZty7ViJhoklL7ZR9Im+XB0KtX9h8DOVftcBgcMvRUifOtYesLisirpIdEVbHWRlcgNgCIbypHWH9EaIAUZqwVE70btJAQlXk5YuN1K5oIEIYr0HDd6AV0ReohdU1DURM1FTfY/KCx60cQ0ADiWzC6koWOsecEij0qAVPIhRNWOq6VhzR1yH+lvzvYvD/3bgA6a+tbUmA+FFPFKKNNVJjn67Cb75Uc6ec88GrwJpNTs0ciHCoez5wGGP45spdKHl+e1BElFYiYTLgyY9lFafh8Vd7/fNmqRrumIu/xKCsJgBSBrhW61c1XFg63F7BwastBLPSgwVIKP8HhzvSAUmYqPuhyEmE3aSBhBIgjVGG8AJitQJP2IWD+BnXZvmE3RUnOgBl75AgDSSQlyIi54GE8YHEZcKKEIUlPhOhtCROmxByLEYH8kAYWQPx3z/9NReEBIgfPiFwAaLVbCmSAHEIZhXO+XYnvvPX3Vj770BUldzbw+CWCxjycNNoJgQ1sulBpYE02V3YV9uKqsZ2RZlycd9kmbA4+bkNSDE5ca7NiZd31GDBm5VgTKobJSUuSo7bmvP2qKrWitpWpBDTDEsbdDofrJ1u7DomCapQ/g/5O/5QXp3Oh7TUDvnv0+avyMtNET1twuI5Q1EJEK61Ob2KWlhqdLqAs5z7yGI3YQV+Z6Pqu2JeCocxFt6JrlMKtHic6C0dbkVJFI4YoWbSyA0TUd+r/F/um+IChN8npIH0c/gNI5uwRB+I/BCHFiA+H0PJ85/ixj9uVYTsfXywEXtONOPVXSfl/UQHHNd84hIgQpy/SH1r4FgH65TJgd1hwgKkiJzCPMl8tfxfR9Du9CAnqwmjLpQ6AnIBcvxcu1BfKJwJK+DvCYTxaq+O9XqfbJLaelTKM4qkgWRntCA/tx4XXlANvY4pJjNrpztkIcVkEUr75TlD0fhAxGoFgeKG2n93vao0TsxO9HAaiD5YAxH7a2g60VW1sKKpRKzGZHTLgkirrLvoU4usgQR8IEBASKoFCPlABgjxmrBaO92oOW9HXatDkf3MM5q5406q4yRtC4T6BcqIxyZA+EOvvNl51BEAHDxjVWzrTFIUlhYXDA0U6ktN6cDVl5fLoacWf1mRk032sIlknGjDeDncjMVDc0MlEXL0eobxo7/ApcVSXxu9jskO1VZBgHSbBhIqCssWfcCFmKegLq+uxiiYCBlj8mKoK2G8gNKJrhYgRg0NJLA4Y5paRSJMWDpd+Na2olauVd6II7ak5tFaAQ3EoXjPLRvh2gb3ZUiA+JFNWLwMt+Cki9QZDlAWTBPNRdWNkjA51+aEx+uTV9k6+KDXe+WJiAudaFaUakJV5K1vFQSISgMJZ8pINBmWduQProPJ6MLVo79QXGOavw2pw+2TG0CFb5AUWCGHy0TniD07gNBJhOEIdGV0hS2kmAyMgvbLI6MYEyL2uuBEtzs9mjXQRPQaJkKg6z4Qqd+I36EcwoQl3q82oTSIVpCDuh+IPQYnOgCYzaEjsXgzKb3KhKVOVxBbUstl6vVKzWagaCAJLefel1EnjHUIYYLR+EBEJ5lYB4prID4mrUJ4GROD0R8nLvR8AGLTQIwqswOnXoh3P+TPyDbopaezM4rVeyK5+vJyMKYLSnrT6xgsqXbYOzNR2ywJvHBVf5U+kMhZ0jwSS4IFlXGPBpPJhU5nOs60OsIWUkwGvEqCj0HOUWrtcMvj6EoYb2uHWygtov13lwW0WylAYkk4TTV3wOU2B4fxCpnxHJtDuaIPGldQFFbXNRAg0H5Wq7FUp4YJy8ekz8VS+m2qRSAQEGR8fANFgJAG4oc7S2UTllCGmpc5DydAxBuEayDWTrci67XB5ggUjNNoHwvE5wNRVxAWBUiHyyvXdxL37Q4TFsBLrmhHl6m720UTxhupFhYn02IFzwZONXfGlBnOFxA156TfL1QhxWSg13vlIodcA1ZmoUfWDLiWKTpyQ2mecp6NyyM4mpX9VqKFm7FChfGKGojYX0MLXYhEwlg1EP4binQKz4RB75UjJNV+EPUikH9HhF9HwIRFTvR+jUkVrimWoY5KAxEECO+rzXtqcxqsDkX8OBC8ko0nCivIhGVV9oY+WBdYjXdXFFY0qLsDRpVIKNTCCncNRqNXdpxHcqCHgt8bNeclQReukGKi0ekCWgg383QliRAITNjcSa3T+UIKUoUGIgjoWK536OA6mE0OORcocI7gBU8kn4Y6kTBmDSRMa1tRA9HpJAEBaCU8BuerqAUy16TMKU4MyrRhUvGgsH1I+iokQPykCE50n48popSiESCiBlLbLPVB4P4PTqPNEeR8U9vSo0kMUyNGJonU+aOwMtNbASj9IN3pRI9Eelc0ENGJHmWEEHekx2K+AgQNxF/Nt7tyQDhGVShvV8qYAMF/43B+r0BIuC/mCCzOsLw6TP/ax3JFY/V4xMTXNtVzoYaPwe1lcHt9ONkkLQbEaK9o4MmEmj4QIZEQCN2/Xb0IlPbV9vOYjG7cdE0FVt3zNej13bTq6EZIgPgRM9HFooRGg0foChf6wVPbOKvPtgd1tWu0OYLC/5QaCAtZZiMcgbDIwPi8PiavVPP9ZbpFDURdVK8nSU/tugmrwxVIJIxknx+WdwYmoxP5g7WLOkaCayC8KGN3ZaEHzq8M4uhKEiEQOpFPc1+h2rHsY+piK95I8Aq6YhivuvGUGjEK7MAZKxxun7+SQejWulqESyYMlDJRajfqiryBJMLA56Eizfo75ET3wyeFdqdHLt0NMClSqosaCABUNdhkX0haqh2djnQ02BzI9RePC6xQAt8zm5wxmQoCpSECD9n5dqffYcqQN6gRx2svx4EzNjDGFKUqeoMG0hUfiF4IM3X5TTKRzHD5gxtwQ25DzGYnMZkQ6L4ILI46Gz1QMy26xYbe34+dMWm9GO734nkgDnfkRM1Y0TJhyav6CBoIAJSfbAEgaZZd/ZuaBRMWYww64QAdqm6N/HdXh/JyH4hRYcLS9vP0d0gD8SMJCWlCOtPCnX8evw1aulFcHl9QpjlHrtLqf6irGtrldqpDcqQkNoUJS47SCNyEsfg/pHEGmwS4Az01xYHMdJuckX2mtVMhaBI9OcRCisklP4ySfT70ilfMaZA1EEPkFXI8Pgu1wOiuCCz5fAblAuZsW9c0EJ1OqWlG42OSft/4TFghzyEXdxSc6BHK2EhOfOn5/OKkZBLLzmjt8rn5b+b0+IIWhJ0qjTZUSfc2jYTXgaqBkADxIwkKaWI40yrZuuUYb4NHjsgIpYVwJ/qgrPMAgIpTLfIkzp2IohOdr24UGkisAkQjLJLngEiRR4GM7ANnbAoB0huc6DpdwA8SKgqHI/pAZC2qi0luXUVtsupuE5a6qVRjF8qYyMcQNM2wJixFGG9sZUwij8UvpJzBGkhoARIYR/lXkgaSndna5XMbDD7576f2g/A8kKD2uyFMWKK/RnyOxPDe/g4JEAGuacgaiP8m0OnC96YGAomEudlNAIB9ta0AJKddhr/ibKPNGbR6SYgA4Q+kIBjqZA1EupYs2ZFulZ3ten307UCTTUCAhF+5KRMJkzPBqVH36O52J7rKhNVVDQRQrpDDLRoUxSpjLKQYcSyClsMJaOahFxBcE+LaflYMGgigNGOJqFschGq/y8OhTUYhLFqljfSW5yrZkAAR4BPDab8AESczvtrQykZnjMk3tbp7YEZauxx73u70yKsefmy9nskdEeM2YQlOSVEDAZSlzTt6UQgvh/tBIvlkNEuZRGHCige1yarbTViCE50xJmgg0QdcKCOGok3UTJYPhJuwgsN4w5nX9IIz32R0xhxVlxqirLs6MtEot7oOUUYmRRQgQuBNmETY/gYJEAGuDZwWfCDqbVoaSJvTI8fYp5k7kGYO5BukW2wwCg1quF9EvMm4jT2WMiZAYEXn8vrg8Wcoc/MZF148lHXX8fP45HCj//p6jwDJ9JvYIkWhKfqBRJFImAiCNJDujsIyBDQQW2egv3aXNBDhNwqrgQgaXiDKLcFRWEJ/Eo6WXyFobMK4szK67kDnBDQQ5b2mXliFaiqlFUYtRo8NFP8HEKcA2b59O2bPno3CwkLodDqsX79esb2xsRHz589HYWEhLBYLZs2aherqasU+x48fxze/+U3k5eUhKysLd9xxBxobG+MZVszwleWZ1mANJFwkFq+fJfUR8Km62vEaVw7VsQPH4a02Y010E+3b3IzFkwj5ais7swVDchrhcPvw+4+q/OPtPQJkSG4jLh95AKMuPBB2Pz5ml8cHB7fRJ9kHoi4v3t0aiOgD4VV4jUZXl0xL4Ry+Ilo+Jn2Cw3jFDn5yZnkUvWBEQZad0RLz+VND1MNSm0T5WNTh+4E6ZCE0EBIg0WG32zFu3DjNfueMMcyZMwcnTpzAhg0bsHfvXhQXF2PGjBmw2+3y92fOnAmdTofNmzdj586dcLlcmD17Nny+5JoltAjygQg3hToSRqRJFYGlbosKBK8WxZts9EVf4oqL9wWZv6JF5w/TBAKrOjkKy2/C0umA8aO/QH5uvfy9rpaBSCZ6HcPIC04gM70t7H5iNBGvcZdsE5ZUkTcgNHoqjLexzYHV/rYAXW17HLUPRNRAkmXCEv6G3B/XHqEWljQOUYBYQ+4XCf4snhUECGMsqMmabMJyeBT7afmg1D6QgUJceSAlJSUoKSnR3FZdXY09e/bgwIEDGDNmDABg5cqVKCgowJtvvon7778fO3fuxMmTJ7F3715kZWUBAF599VUMGjQImzdvxowZM+IZXpfhEwMvVKewG6v6hYg0tytLfGekBzK+ectWdYa5qIFkprdFnDjDIYVpeuHx6tHhkhofcfuuWFZbr/dh3KhyHKy+GnXnRsSU9d7TSJMIA6ATPku+JmUyueHxpvj/390+EOk+PHHOjhP+elxDBp0L95UglBpIOCe6EMYbRbHKWJA6+HnBmAF2lwfZFlNULWpFTTMrHg1EIxvd7WXwqgpNapmwWjrcsrlaFOKiUCYNJAE4nf6ezampgZPp9TCbzdixY4e8j06ng9lslvdJTU2FXq+X9wl1bJvNpnglAvXEINo1+UTMW6OKBHJApH+z/RFPaWa7nOdhVpVcSLSjTcyPONvmhI9Jmonap6DXMYy9dC8mjtmNKy7el9AxdAdcWIok2sSiBfeBdWchRY74N8yw2DBh9B5cPvJgl44hCo1oSpk4VLWwEo1R9mUpHdXRmLDMJgdSzbEXJ9TqCSKWAQoqZSJoIFz7kApZBmpbKQJuIoSi9yeSJkBGjRqFoqIiLF26FC0tLXC5XHjmmWdw+vRp1NdLZpQpU6YgPT0dP/vZz9DR0QG73Y5HHnkEXq9X3keL5cuXIzs7W36NGDEiIWNWx/eLqyFuihJLtXNkE5b/++kWOyaM3oPxoz+X9wnWQBIsQIToGdmBnuLQdDTqdMCQnHMwp/TNEtPiZBhrob+uws2b3VlIkWNJ7cCYiytx5WUVmHb1VuTlnu3yGJSJhNHmgSQnkVA6T6CcicfrkwMiognjzcqMXfsAAj6Q8+0u2QfDzVdioUk+H4iFUrUisKTrIQ0koZhMJqxduxZHjx5Fbm4uLBYLtmzZgpKSEuj10mnz8vJQVlaG9957DxkZGcjOzkZraysmTJgg76PF0qVLYbVa5VdtbW1CxqyO7xed0+l+AXL8XLus6nJ4Doi4UszLPaswSwX7QBK7Sgk06fEEHOhdLDTXVxAnw+5K2OKTSXfngHCGF5xCYd6ZmIWXMpEwcqkY0YSVjN840ATNo6iJFU0UViwZ6CImo0v2GXKNQqs/Tlqq9Pycb3fKGkqoQpaKKLcBJECSWgtr4sSJqKyshNVqhcvlQl5eHiZPnoxJkybJ+8ycORPHjx/H+fPnYTQakZOTg4KCAlx00UUhj2s2mxVmr0QRTgOxpNqh13vg9BhxqrkDFw5Jl7c127UKIyoRNZBI5TpiQWwqxXuhc1tvf0NpjukeAcIFR3dnoSeKLjvRkxiFBQgmLKdXLmOi13nD9mu5YOgpeLxGFOafjuvcvLWtw2lBo82B4YMsQnKtEDhjdMNocMHjTUFtSwcuG5oZcKCrTcN6L7hvjvJAEkx2djby8vJQXV2N8vJy3HbbbUH7DBkyBDk5Odi8eTPOnj2LW2+9tTuGpiCcANHppKRAINiMFdBAQk8uZmEyD9W2Mx649vPS9hM44h9ff9VAxIc8GeYVLbgJq7sjsBJFtFFCck6Rxyf0jEmeCavD7dUsj65Ffm4jrhm7WxEYEiupqlyQUO0NeAvkWr/v82yIMjKib24gmbDi0kDa29tx7Ngx+X1NTQ0qKyuRm5uLoqIilJWVIS8vD0VFRdi/fz8WLlyIOXPmYObMmfJ3Vq1ahdGjRyMvLw+7d+/GwoULsXjxYlx++eXxDC0mxMKGQPCNkGFpg82eg+rGNswaWyB/LjvRjaEdeykpLsgrlCTcYBePqEKzdQj21bbKZVT6qwCJNikukQzOPoev6i/EkNyeyVGKF4WTN4pSJoDUAx5IkglLqIel7pHTHaj7goRqsJaW2gGbPUcOngnXi95g8MDrM5IAiZby8nLccMMN8vslS5YAAObNm4fVq1ejvr4eS5YsQWNjI4YNG4a7774by5YtUxyjqqoKS5cuRXNzM0aOHInHHnsMixcvjmdYMaPX+2DQSzcBELwakR3pjUoNpMke2T6u1zGYUxxwutKS8qBkprfhmrG78MWBqXB7JPNeWh8M040GtRO9OxiU3Ywbv/Zhn61xZIjaBxIIk+ZtDZKh5XEhZnd5Y+4uGA/qviDqHBBOml8D4QIkXC8Wg8ELuAdWFFZcAmT69OlgLLTNcsGCBViwYEHYYzz99NN4+umn4xlGQjGZXPA6pZ9F3dwmwyKFC6s7DXINJFJ+gCxAknSDZabb8LUrJSHicpsV+Sj9CUVEUTeZsID4SsL3NMYoo7C4KcbrM8o5T8nWQCK1s00GvMQPL6gY0oTlL0skm7A0stA5melWOJxpSLd0rclVX4YaSqkwGV1wOC0AgldqXAM5cb4dbq8PJoMeDrdXrqETqY5TaooDNiT3QcmwtOHa8VvgcqfK9tv+Rk9oIH2daJ3o0r5cgPASPcnwgQgaSJQ+kESi1kDUlXg5abIPpFOZha5RCWDc5RXweEw9FqnXE1AxRRUpQt0j9USfau6EQS8VTjx5XlqZcO1Dp/NFFAxc7U32SivF5FaUU+lvGPQkQLpKtCYsIKDh8bI9yag1JhdUdHkC/dC70fRjVlXk5QmNoQTIqeYO2BweOV9FSwPR69iAEh4ACZAgTCbtAmmAPxLLb8bifpBmIYkwkokj029SSouxaCIhoXSid3/NtL4IjyLT6XwRNRAulHm6U1ISCbkPxOntEROWHIVlc/jrYPlDllXPvFQyXqqTdaTe5h+nu1dVsu5JyISlwhRGAwEkE5G1PRdH/X6QJtn/Ebm0wgVDTyEjrQ1ZMXRSIwKQCavrmIxujLpwPwyG8LkWQPDCKak+EJenR5zo3BrgcPtg6/RoJhICUt2uVHMnHE6L3Akx1r49/RESICq4CipWuBXhpqGjDVwDiZwDwtHrGAZlNydqqAOWnnKi93WKC2ui2i94Ek1iKRMhCqs7fSC8ta3bk4IGm0NoThYsLNPMHXA4LaggARIEmbBU8GRCQ4h2r7IAOSv929SuLOVOJB/SQJKLehJNhpAOZKJ7IvZDTxZcENRbO0PmgQCBZEJZgNCzLkMCRAUXIKFuZu4DOXneDofbG1SJl0g+PZFIOJAI1kCSWQtL8IF0cwkQ/ixvO3oubJtn7rPkQQWkgQQgAaKCC4JQN7M5xQmjwQUfk/oztHT07RpJfRHSQJKL2pSUTBOWMgqrewVIYZ5UU2tDZR1sDn/EmcYY0lTh8LG2nu6PkA9ExaDsJgwbcjpkyQqdTsr6brENxpPvH4LXn0hJGkj3oazGSz6QRBPcbyV5/UDEKCxDN2dwDx50DmaTA8124NNqqUGXVpkXi1kpQFJIA5EhDUSFQe/DVZf/G4V5Z0Luc/GIKhj0Huw+0YTPaySnOPlAug89mbCSivo3TWoxRUUUVvf+LfU6hmH5UisIR5jmWUEaSBfbCfdnSIDEwOCc85gybrvcrhYgDaQ7IRNWcumWMF6hdW6bo/sTCTkX5Ct7CWlFYaWYnAqtl0xYAUiAxEiGpR1TrvoUhfmnkJPZHHeTGyJ6KJEwuSgFBoNOFz5vJBZEbYP7EXuiim2GpR3ZGYHQei2NVqdTaiHq7qIDGfKBxIHR6MGVl1b29DAGHKSBJBfRiZ6slsFiAyZej7WnOvldkF8La3uuNIYQ91OauQPtHVkw6D0DquNgJEgDIfocVAsruSh/3+RoeDpdsMDoqT4aBXln5PvIaNQ2o/FQ3pQUZ5+uypxoSAMh+hzKyrJkwko0ChNhEtrZcox6L7xeEwBpIRCpxEqyMBk9GHdZBeyOdGSEKMXOkwkpB0QJCRCiz0EaSHLpLhOhweAB/Av+nu7ilz+4Iez2IYPOwlLfjsIh8fVj72+QACH6HDqdNLH5fAbSQJJAd5iwgK6VmO9p0tPs+H8TN/f0MHod5AMh+iSW1HbodV65rwOROLpVA/EzkNrA9ifiEiDbt2/H7NmzUVhYCJ1Oh/Xr1yu2NzY2Yv78+SgsLITFYsGsWbNQXV2t2KehoQHf//73UVBQgPT0dEyYMAH//Oc/4xkWMQC4ZuwuXDthC1JMNPEkmu4Kkxbb7Pa0CYuIjbgEiN1ux7hx47BixYqgbYwxzJkzBydOnMCGDRuwd+9eFBcXY8aMGbDbAw2V7r77blRVVeHdd9/F/v37cfvtt+OOO+7A3r174xka0c9JMbn7bcvenkZZKiaZGkjg2CRA+iZx+UBKSkpQUlKiua26uhp79uzBgQMHMGbMGADAypUrUVBQgDfffBP3338/AGDXrl1YuXIlvva1rwEAHn/8cTz33HOoqKjA+PHj4xkeQRAxoDRhJdMH4tH8P9F3SJoPxOmU0v1TU1MDJ9PrYTabsWPHDvmzadOm4a233kJzczN8Ph/WrFkDh8OB6dOnhz22zWZTvAiCSAyi1qFPZhivgUxYfZ2kCZBRo0ahqKgIS5cuRUtLC1wuF5555hmcPn0a9fX18n5vv/023G43Bg8eDLPZjAcffBDr1q3DJZdcEvLYy5cvR3Z2tvwaMWJEsi6DIAYc3RUmLZ6nu3uBEIkhaQLEZDJh7dq1OHr0KHJzc2GxWLBlyxaUlJRArw+cdtmyZWhtbcUnn3yC8vJyLFmyBHfccQf2798f8thLly6F1WqVX7W1tSH3JQiia+j1TG7nnEwnuoE0kD5PUvNAJk6ciMrKSlitVrhcLuTl5WHy5MmYNGkSAOD48eN48cUXFX6ScePG4dNPP8WKFSvwl7/8RfO4ZrMZZrM5mUMniAGNQe+Bx5uSVA3ESGG8fZ5uyQPJzs5GXl4eqqurUV5ejttuuw0A0NEhRdGIGgkAGAwG+HyUIEYQPQV3pFMiIRGOuDSQ9vZ2HDt2TH5fU1ODyspK5ObmoqioCGVlZcjLy0NRURH279+PhQsXYs6cOZg5cyYAyU9yySWX4MEHH8Qf/vAHDB48GOvXr8fGjRvx/vvvx3dlBEHEDPdPJNcHQiasvk5cAqS8vBw33HCD/H7JkiUAgHnz5mH16tWor6/HkiVL0NjYiGHDhuHuu+/GsmXL5P1NJhM++OADPProo5g9ezba29txySWX4NVXX8Utt9wSz9AIgogDWQOhKCwiDHEJkOnTp4Ox0BU0FyxYgAULFoQ9xqWXXkqZ5wTRy+AaSHKd6JRI2NehWlgEQQTR3SYs8oH0TUiAEAQRhMnobzMbosFSIlBoIJQH0iehcu4EQQRxcdFRpFvaMDS3PvLOMUJhvH0fEiAEQQSRYWnDJUVtST2HyeiGXu+BXsfIB9JHIQFCEESPYDB4cc3Y3dDpfNRnvI9CAoQgiB4jJ7Olp4dAxAE50QmCIIiYIAFCEARBxAQJEIIgCCImSIAQBEEQMUEChCAIgogJEiAEQRBETJAAIQiCIGKCBAhBEAQREyRACIIgiJggAUIQBEHEBAkQgiAIIiZIgBAEQRAxEZcA2b59O2bPno3CwkLodDqsX79esb2xsRHz589HYWEhLBYLZs2aherqann7yZMnodPpNF9lZWXxDI0gCIJIMnEJELvdjnHjxmHFihVB2xhjmDNnDk6cOIENGzZg7969KC4uxowZM2C32wEAI0aMQH19veL1q1/9ChkZGSgpKYlnaARBEESSiauce0lJSciJvrq6Gnv27MGBAwcwZswYAMDKlStRUFCAN998E/fffz8MBgMKCgoU31u3bh3uuOMOZGRkxDM0giAIIskkzQfidDoBAKmpqYGT6fUwm83YsWOH5ncqKipQWVmJ++67L+KxbTab4kUQBEF0L0kTIKNGjUJRURGWLl2KlpYWuFwuPPPMMzh9+jTq67X7LL/88ssYPXo0pk2bFvbYy5cvR3Z2tvwaMWJEMi6BIAiCCEPSBIjJZMLatWtx9OhR5ObmwmKxYMuWLSgpKYFeH3zazs5OvPHGGxG1DwBYunQprFar/KqtrU3GJRAEQRBhSGpL24kTJ6KyshJWqxUulwt5eXmYPHkyJk2aFLTvO++8g46ODtx9990Rj2s2m2E2m5MxZIIgCCJKuiUPJDs7G3l5eaiurkZ5eTluu+22oH1efvll3HrrrcjLy+uOIREEQRBxEpcG0t7ejmPHjsnva2pqUFlZidzcXBQVFaGsrAx5eXkoKirC/v37sXDhQsyZMwczZ85UHOfYsWPYvn07Pvjgg3iGQxAEQXQjcQmQ8vJy3HDDDfL7JUuWAADmzZuH1atXo76+HkuWLEFjYyOGDRuGu+++G8uWLQs6ziuvvILhw4cHCRaCIAii96JjjLGeHkS82Gw2ZGdnw2q1Iisrq0vffeTjR9DmbEvSyAiCGOhkmjPxh5l/6PL34pnXuguqhUUQBEHEBAkQgiAIIiZIgBAEQRAxQQKEIAiCiAkSIARBEERMkAAhCIIgYoIECEEQBBETJEAIgiCImCABQhAEQcQECRCCIAgiJkiAEARBEDFBAoQgCIKICRIgBEEQREyQACEIgiBiggQIQRAEERMkQAiCIIiYIAFCEARBxAQJEIIgCCIm4hIg27dvx+zZs1FYWAidTof169crtjc2NmL+/PkoLCyExWLBrFmzUF1dHXSc3bt348Ybb0R6ejqysrJw3XXXobOzM56hEQRBEEkmLgFit9sxbtw4rFixImgbYwxz5szBiRMnsGHDBuzduxfFxcWYMWMG7Ha7vN/u3bsxa9YszJw5E59//jm++OILPPzww9DrSTkiCILozRjj+XJJSQlKSko0t1VXV2PPnj04cOAAxowZAwBYuXIlCgoK8Oabb+L+++8HACxevBgLFizAo48+Kn/38ssvj2dYBEEQRDeQtGW+0+kEAKSmpgZOptfDbDZjx44dAICzZ8/is88+Q35+PqZNm4ahQ4fi+uuvl7eHO7bNZlO8CIIgiO4laQJk1KhRKCoqwtKlS9HS0gKXy4VnnnkGp0+fRn19PQDgxIkTAIBf/vKXeOCBB/Dhhx9iwoQJuOmmmzR9JZzly5cjOztbfo0YMSJZl0EQBEGEIGkCxGQyYe3atTh69Chyc3NhsViwZcsWlJSUyP4Nn88HAHjwwQdxzz33YPz48Xjuuedw+eWX45VXXgl57KVLl8Jqtcqv2traZF0GQRAEEYK4fCCRmDhxIiorK2G1WuFyuZCXl4fJkydj0qRJAIBhw4YBAK644grF90aPHo1Tp06FPK7ZbIbZbE7ewAmCIIiIdEuoU3Z2NvLy8lBdXY3y8nLcdtttAICRI0eisLAQVVVViv2PHj2K4uLi7hgaQRAEESNxaSDt7e04duyY/L6mpgaVlZXIzc1FUVERysrKkJeXh6KiIuzfvx8LFy7EnDlzMHPmTACATqfDT37yEzzxxBMYN24crr76arz66qs4cuQI3nnnnfiujCAIgkgqcQmQ8vJy3HDDDfL7JUuWAADmzZuH1atXo76+HkuWLEFjYyOGDRuGu+++G8uWLVMcY9GiRXA4HFi8eDGam5sxbtw4bNy4ERdffHE8QyMIgiCSjI4xxnp6EPFis9mQnZ0Nq9WKrKysLn33kY8fQZuzLUkjIwhioJNpzsQfZv6hy9+LZ17rLijdmyAIgogJEiAEQRBETJAAIQiCIGKCBAhBEAQREyRACIIgiJggAUIQBEHEBAkQgiAIIiZIgBAEQRAxQQKEIAiCiAkSIARBEERMkAAhCIIgYoIECEEQBBETJEAIgiCImCABQhAEQcQECRCCIAgiJkiAEARBEDFBAoQgCIKICRIgBEEQREzEJUC2b9+O2bNno7CwEDqdDuvXr1dsb2xsxPz581FYWAiLxYJZs2ahurpasc/06dOh0+kUrx/+8IfxDIsgCILoBuISIHa7HePGjcOKFSuCtjHGMGfOHJw4cQIbNmzA3r17UVxcjBkzZsButyv2feCBB1BfXy+/fve738UzLIIgCKIbMMbz5ZKSEpSUlGhuq66uxp49e3DgwAGMGTMGALBy5UoUFBTgzTffxP333y/va7FYUFBQEM9QCIIgiG4maT4Qp9MJAEhNTQ2cTK+H2WzGjh07FPu+/vrrGDJkCMaOHYulS5eio6MjWcMiCIIgEkRcGkg4Ro0ahaKiIixduhQvvfQS0tPT8dxzz+H06dOor6+X9/ve976H4uJiFBYW4ssvv8TPfvYzVFVVYe3atSGP7XQ6ZQEFADabLeZxzrx4JpweZ+QdCYIgYsBsNPf0EJJG0gSIyWTC2rVrcd999yE3NxcGgwEzZsxASUkJGGPyfj/4wQ/k/1955ZUYNmwYbrrpJhw/fhwXX3yx5rGXL1+OX/3qVwkZ58yLZybkOARBEAONpIbxTpw4EZWVlWhtbUV9fT0+/PBDNDU14aKLLgr5ncmTJwMAjh07FnKfpUuXwmq1yq/a2tqEj50gCIIIT9I0EJHs7GwAkmO9vLwcTz75ZMh9KysrAQDDhg0LuY/ZbIbZ3H/VQoIgiL5AXAKkvb1doSnU1NSgsrISubm5KCoqQllZGfLy8lBUVIT9+/dj4cKFmDNnDmbOlMxGx48fxxtvvIFbbrkFgwcPxpdffonFixfjuuuuw1VXXRXflREEQRBJJS4BUl5ejhtuuEF+v2TJEgDAvHnzsHr1atTX12PJkiVobGzEsGHDcPfdd2PZsmXy/ikpKfjkk0/wpz/9CXa7HSNGjMDcuXPx+OOPxzMsgiAIohvQMdGj3Uex2WzIzs6G1WpFVlZWTw+HIAgibvrCvEa1sAiCIIiYIAFCEARBxAQJEIIgCCImuiWMN9lwN048GekEQRC9CT6f9WY3db8QIG1tbQCAESNG9PBICIIgEktbW5ucS9fb6BdRWD6fD3V1dcjMzIROp4v6ezabDSNGjEBtbW2vjXKIF7rG/gFdY/+gK9fIGENbWxsKCwuh1/dOb0O/0ED0ej2GDx8e8/ezsrL67Q3LoWvsH9A19g+ivcbeqnlweqdYIwiCIHo9JEAIgiCImBjQAsRsNuOJJ57o14UZ6Rr7B3SN/YP+do39wolOEARBdD8DWgMhCIIgYocECEEQBBETJEAIgiCImCABQhAEQcTEgBYgK1aswMiRI5GamorJkyfj888/7+khxcTy5ctxzTXXIDMzE/n5+ZgzZw6qqqoU+zgcDpSWlmLw4MHIyMjA3Llz0djY2EMjjp+nn34aOp0OixYtkj/rD9d45swZ/Nd//RcGDx6MtLQ0XHnllSgvL5e3M8bwi1/8AsOGDUNaWhpmzJiB6urqHhxx1/B6vVi2bBkuvPBCpKWl4eKLL8aTTz6pqPfU165x+/btmD17NgoLC6HT6bB+/XrF9miup7m5GXfddReysrKQk5OD++67D+3t7d14FTHCBihr1qxhKSkp7JVXXmEHDx5kDzzwAMvJyWGNjY09PbQuc/PNN7NVq1axAwcOsMrKSnbLLbewoqIi1t7eLu/zwx/+kI0YMYJt2rSJlZeXsylTprBp06b14Khj5/PPP2cjR45kV111FVu4cKH8eV+/xubmZlZcXMzmz5/PPvvsM3bixAn20UcfsWPHjsn7PP300yw7O5utX7+e7du3j916663swgsvZJ2dnT048uh56qmn2ODBg9n777/PampqWFlZGcvIyGDPP/+8vE9fu8YPPviAPfbYY2zt2rUMAFu3bp1iezTXM2vWLDZu3Di2Z88e9umnn7JLLrmEffe73+3mK+k6A1aAfO1rX2OlpaXye6/XywoLC9ny5ct7cFSJ4ezZswwA27ZtG2OMsdbWVmYymVhZWZm8z+HDhxkAtnv37p4aZky0tbWxSy+9lG3cuJFdf/31sgDpD9f4s5/9jP3Hf/xHyO0+n48VFBSw3//+9/Jnra2tzGw2szfffLM7hhg3X//619m9996r+Oz2229nd911F2Os71+jWoBEcz2HDh1iANgXX3wh7/Ovf/2L6XQ6dubMmW4beywMSBOWy+VCRUUFZsyYIX+m1+sxY8YM7N69uwdHlhisVisAIDc3FwBQUVEBt9utuN5Ro0ahqKioz11vaWkpvv71ryuuBegf1/juu+9i0qRJ+Pa3v438/HyMHz8ef/vb3+TtNTU1aGhoUFxjdnY2Jk+e3Geucdq0adi0aROOHj0KANi3bx927NiBkpISAP3jGkWiuZ7du3cjJycHkyZNkveZMWMG9Ho9Pvvss24fc1foF8UUu8r58+fh9XoxdOhQxedDhw7FkSNHemhUicHn82HRokW49tprMXbsWABAQ0MDUlJSkJOTo9h36NChaGho6IFRxsaaNWvw73//G1988UXQtv5wjSdOnMDKlSuxZMkS/PznP8cXX3yBBQsWICUlBfPmzZOvQ+u+7SvX+Oijj8Jms2HUqFEwGAzwer146qmncNdddwFAv7hGkWiup6GhAfn5+YrtRqMRubm5vf6aB6QA6c+UlpbiwIED2LFjR08PJaHU1tZi4cKF2LhxI1JTU3t6OEnB5/Nh0qRJ+O1vfwsAGD9+PA4cOIC//OUvmDdvXg+PLjG8/fbbeP311/HGG29gzJgxqKysxKJFi1BYWNhvrnEgMSBNWEOGDIHBYAiK0GlsbERBQUEPjSp+Hn74Ybz//vvYsmWLorx9QUEBXC4XWltbFfv3peutqKjA2bNnMWHCBBiNRhiNRmzbtg0vvPACjEYjhg4d2uevcdiwYbjiiisUn40ePRqnTp0CAPk6+vJ9+5Of/ASPPvoovvOd7+DKK6/E97//fSxevBjLly8H0D+uUSSa6ykoKMDZs2cV2z0eD5qbm3v9NQ9IAZKSkoKJEydi06ZN8mc+nw+bNm3C1KlTe3BkscEYw8MPP4x169Zh8+bNuPDCCxXbJ06cCJPJpLjeqqoqnDp1qs9c70033YT9+/ejsrJSfk2aNAl33XWX/P++fo3XXnttUPj10aNHUVxcDAC48MILUVBQoLhGm82Gzz77rM9cY0dHR1BzJIPBAJ/PB6B/XKNINNczdepUtLa2oqKiQt5n8+bN8Pl8mDx5crePuUv0tBe/p1izZg0zm81s9erV7NChQ+wHP/gBy8nJYQ0NDT09tC7z0EMPsezsbLZ161ZWX18vvzo6OuR9fvjDH7KioiK2efNmVl5ezqZOncqmTp3ag6OOHzEKi7G+f42ff/45MxqN7KmnnmLV1dXs9ddfZxaLhb322mvyPk8//TTLyclhGzZsYF9++SW77bbbenWIq5p58+axCy64QA7jXbt2LRsyZAj76U9/Ku/T166xra2N7d27l+3du5cBYM8++yzbu3cv++qrrxhj0V3PrFmz2Pjx49lnn33GduzYwS699FIK4+3t/PnPf2ZFRUUsJSWFfe1rX2N79uzp6SHFBADN16pVq+R9Ojs72Y9+9CM2aNAgZrFY2De/+U1WX1/fc4NOAGoB0h+u8b333mNjx45lZrOZjRo1iv31r39VbPf5fGzZsmVs6NChzGw2s5tuuolVVVX10Gi7js1mYwsXLmRFRUUsNTWVXXTRReyxxx5jTqdT3qevXeOWLVs0n7958+YxxqK7nqamJvbd736XZWRksKysLHbPPfewtra2HriarkHl3AmCIIiYGJA+EIIgCCJ+SIAQBEEQMUEChCAIgogJEiAEQRBETJAAIQiCIGKCBAhBEAQREyRACIIgiJggAUIQBEHEBAkQgiAIIiZIgBAEQRAxQQKEIAiCiIn/Dw0SSPEWYnQHAAAAAElFTkSuQmCC)"
            ],
            "text/plain": [
              "<IPython.core.display.Markdown object>"
            ]
          },
          "metadata": {
            "tags": []
          },
          "output_type": "display_data"
        }
      ],
      "source": [
        "import numpy as np\n",
        "import IPython.display as display\n",
        "from matplotlib import pyplot as plt\n",
        "import io\n",
        "import base64\n",
        "\n",
        "ys = 200 + np.random.randn(100)\n",
        "x = [x for x in range(len(ys))]\n",
        "\n",
        "fig = plt.figure(figsize=(4, 3), facecolor='w')\n",
        "plt.plot(x, ys, '-')\n",
        "plt.fill_between(x, ys, 195, where=(ys > 195), facecolor='g', alpha=0.6)\n",
        "plt.title(\"Sample Visualization\", fontsize=10)\n",
        "\n",
        "data = io.BytesIO()\n",
        "plt.savefig(data)\n",
        "image = F\"data:image/png;base64,{base64.b64encode(data.getvalue()).decode()}\"\n",
        "alt = \"Sample Visualization\"\n",
        "display.display(display.Markdown(F\"\"\"![{alt}]({image})\"\"\"))\n",
        "plt.close(fig)"
      ]
    },
    {
      "cell_type": "markdown",
      "metadata": {
        "id": "4_kCnsPUqS6o"
      },
      "source": [
        "Vous pouvez importer vos propres données dans les notebooks Colab depuis votre compte Google Drive, y compris depuis des feuilles de calcul, ainsi que depuis GitHub et de nombreuses autres sources. Pour en savoir plus sur l'importation de données et l'utilisation de Colab dans le domaine de la science des données, consultez les liens ci-dessous dans la section <a href=\"#working-with-data\">Utiliser les données</a>."
      ]
    },
    {
      "cell_type": "markdown",
      "metadata": {
        "id": "OwuxHmxllTwN"
      },
      "source": [
        "<div class=\"markdown-google-sans\">\n",
        "\n",
        "## Machine learning\n",
        "</div>\n",
        "\n",
        "Colab vous permet d'importer un ensemble de données d'images, d'entraîner un classificateur d'images sur cet ensemble et d'évaluer le modèle, tout cela avec <a href=\"https://colab.research.google.com/github/tensorflow/docs/blob/master/site/en/tutorials/quickstart/beginner.ipynb\">quelques lignes de code</a>. Les notebooks Colab exécutent ce code sur les serveurs cloud de Google. Vous avez donc à votre disposition toute la puissance du matériel Google, y compris les <a href=\"#using-accelerated-hardware\">GPU et TPU</a>, quelle que soit la puissance de votre ordinateur. Vous n'avez besoin que d'un navigateur."
      ]
    },
    {
      "cell_type": "markdown",
      "metadata": {
        "id": "ufxBm1yRnruN"
      },
      "source": [
        "Colab est très largement utilisé par la communauté du machine learning, par exemple dans les applications suivantes :\n",
        "- Premiers pas avec TensorFlow\n",
        "- Développement et entraînement de réseaux de neurones\n",
        "- Expérimentation avec les TPU\n",
        "- Dissémination de la recherche en IA\n",
        "- Création de tutoriels\n",
        "\n",
        "Pour voir comment les notebooks Colab sont utilisés dans des applications de machine learning, reportez-vous aux <a href=\"#machine-learning-examples\">exemples de machine learning</a> ci-dessous."
      ]
    },
    {
      "cell_type": "markdown",
      "metadata": {
        "id": "-Rh3-Vt9Nev9"
      },
      "source": [
        "<div class=\"markdown-google-sans\">\n",
        "\n",
        "## Autres ressources\n",
        "\n",
        "### Utiliser les notebooks dans Colab\n",
        "\n",
        "</div>\n",
        "\n",
        "- [Présentation de Colaboratory](/notebooks/basic_features_overview.ipynb)\n",
        "- [Guide de Markdown](/notebooks/markdown_guide.ipynb)\n",
        "- [Importer des bibliothèques et installer des dépendances](/notebooks/snippets/importing_libraries.ipynb)\n",
        "- [Enregistrer et charger des notebooks dans GitHub](https://colab.research.google.com/github/googlecolab/colabtools/blob/main/notebooks/colab-github-demo.ipynb)\n",
        "- [Formulaires interactifs](/notebooks/forms.ipynb)\n",
        "- [Widgets interactifs](/notebooks/widgets.ipynb)\n",
        "\n",
        "<div class=\"markdown-google-sans\">\n",
        "\n",
        "<a name=\"working-with-data\"></a>\n",
        "### Utiliser les données\n",
        "</div>\n",
        "\n",
        "- [Chargement de données : Drive, Sheets et Google Cloud Storage](/notebooks/io.ipynb)\n",
        "- [Graphiques : visualiser les données](/notebooks/charts.ipynb)\n",
        "- [Premiers pas avec BigQuery](/notebooks/bigquery.ipynb)\n",
        "\n",
        "<div class=\"markdown-google-sans\">\n",
        "\n",
        "### Cours d'initiation au Machine Learning\n",
        "\n",
        "<div>\n",
        "\n",
        "Vous trouverez ci-dessous quelques-uns des notebooks de la formation Google en ligne sur le machine learning. Consultez la <a href=\"https://developers.google.com/machine-learning/crash-course/\">formation complète en ligne</a> pour en savoir plus.\n",
        "- [Présentation du DataFrame pandas](https://colab.research.google.com/github/google/eng-edu/blob/main/ml/cc/exercises/pandas_dataframe_ultraquick_tutorial.ipynb)\n",
        "- [Régression linéaire avec tf.keras et des données synthétiques](https://colab.research.google.com/github/google/eng-edu/blob/main/ml/cc/exercises/linear_regression_with_synthetic_data.ipynb)\n",
        "\n",
        "<div class=\"markdown-google-sans\">\n",
        "\n",
        "<a name=\"using-accelerated-hardware\"></a>\n",
        "### Utiliser le matériel accéléré\n",
        "</div>\n",
        "\n",
        "- [TensorFlow avec des GPU](/notebooks/gpu.ipynb)\n",
        "- [TensorFlow avec des TPU](/notebooks/tpu.ipynb)"
      ]
    },
    {
      "cell_type": "markdown",
      "metadata": {
        "id": "P-H6Lw1vyNNd"
      },
      "source": [
        "<div class=\"markdown-google-sans\">\n",
        "\n",
        "<a name=\"machine-learning-examples\"></a>\n",
        "\n",
        "### Exemples\n",
        "\n",
        "</div>\n",
        "\n",
        "- <a href=\"https://colab.research.google.com/github/NVIDIA/NeMo/blob/stable/tutorials/VoiceSwapSample.ipynb\">Échange de voix avec NeMo</a> : utilisez le kit Nvidia NeMo pour l'IA conversationnelle afin d'échanger une voix dans un fragment audio contre une voix générée par ordinateur.\n",
        "\n",
        "- <a href=\"https://tensorflow.org/hub/tutorials/tf2_image_retraining\">Recyclage d'un classificateur d'images</a> : construisez un modèle Keras sur un classificateur d'images pré-entraîné pour faire la distinction entre différentes fleurs.\n",
        "- <a href=\"https://tensorflow.org/hub/tutorials/tf2_text_classification\">Classification de texte</a> : classez des avis sur des films provenant de la base de données IMDB comme <em>positifs</em> ou <em>négatifs</em>.\n",
        "- <a href=\"https://tensorflow.org/hub/tutorials/tf2_arbitrary_image_stylization\">Transfert de style</a> : utilisez le deep learning pour transférer un style d'une image à une autre.\n",
        "- <a href=\"https://tensorflow.org/hub/tutorials/retrieval_with_tf_hub_universal_encoder_qa\">Questions/Réponses sur l'encodeur de phrases universel multilingue</a> : utilisez un modèle de machine learning afin de répondre aux questions issues de l'ensemble de données SQuAD.\n",
        "- <a href=\"https://tensorflow.org/hub/tutorials/tweening_conv3d\">Interpolation vidéo</a> : prédisez ce qui s'est passé entre la première et la dernière image d'une vidéo.\n"
      ]
    }
  ],
  "metadata": {
    "colab": {
      "name": "Bienvenue dans Colaboratory",
      "provenance": []
    },
    "kernelspec": {
      "display_name": "Python 3",
      "name": "python3"
    }
  },
  "nbformat": 4,
  "nbformat_minor": 0
}
