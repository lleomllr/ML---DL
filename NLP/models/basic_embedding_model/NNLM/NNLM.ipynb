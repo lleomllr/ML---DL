{
  "nbformat": 4,
  "nbformat_minor": 0,
  "metadata": {
    "colab": {
      "provenance": []
    },
    "kernelspec": {
      "name": "python3",
      "display_name": "Python 3"
    },
    "language_info": {
      "name": "python"
    }
  },
  "cells": [
    {
      "cell_type": "markdown",
      "source": [
        "Neural Probabilistic Language Model (NLPM) vise à créer un modèle linguistique en utilisant les particularités des réseaux de neurones.\n",
        "\n",
        "2003 : Bengio propose une architecture qui permet d'apprendre une représentation distribuée de mots et ainsi résoudre la malédiction de la dimensionalité : une séquence de mots sur laquelle le modèle sera testé est susceptible d'être différente de toutes les séquences de mots observées au cours de la formation.\n",
        "\n",
        "Ceci en apprenant une représentation distribuée des mots qui permet à chaque phrase d'apprentissage d'informer le modèle sur un nombre exponentiel de phrases sémantiquement voisines.  Le modèle apprend simultanément :\n",
        "- représentation distribuée pour chaque mot\n",
        "- la fonction de probabilité pour les séquences de mots, exprimée en termes de ces représentations."
      ],
      "metadata": {
        "id": "GdKY6a3gWYGF"
      }
    },
    {
      "cell_type": "markdown",
      "source": [
        "# **Objectif**"
      ],
      "metadata": {
        "id": "jMjpHcRuYA-L"
      }
    },
    {
      "cell_type": "markdown",
      "source": [
        "Notre tâche consiste à créer un NPLM à l'aide de l'architecture proposée, puis à l'utiliser pour calculer les similitudes entre certains mots.\n",
        "\n",
        "Pour ce faire, utilisation de Brown Corpus fourni par NLTK qui donnera plusieurs paragraphes pour l'entraînement et le réglage du modèle. Après entraînement, calcul des similitudes entre les mots suivants :\n",
        "- computer et keyboard (doivent être similaires)\n",
        "- dog et cat (doivent être similaires)\n",
        "- dog et car (pas de similarité)\n",
        "- cat et keyboard (pas de similarité)\n",
        "\n",
        "Similarité = probabilité que ces mots se retrouvent l'un à côté de l'autre / dans le même contexte."
      ],
      "metadata": {
        "id": "xIb2ArkhYFeX"
      }
    },
    {
      "cell_type": "markdown",
      "source": [
        "## Chargement de Brown Corpus"
      ],
      "metadata": {
        "id": "mIfzBl1CZBaV"
      }
    },
    {
      "cell_type": "code",
      "source": [
        "import nltk\n",
        "import csv\n",
        "from nltk.corpus import brown\n",
        "from nltk.corpus import wordnet\n",
        "\n",
        "nltk.download('brown')\n",
        "nltk.download('wordnet')\n",
        "\n",
        "len(brown.paras())"
      ],
      "metadata": {
        "colab": {
          "base_uri": "https://localhost:8080/"
        },
        "id": "FlM-tKEaYCsl",
        "outputId": "18c236c4-48b0-4f0c-c2ac-ed0d2904e822"
      },
      "execution_count": 2,
      "outputs": [
        {
          "output_type": "stream",
          "name": "stderr",
          "text": [
            "[nltk_data] Downloading package brown to /root/nltk_data...\n",
            "[nltk_data]   Unzipping corpora/brown.zip.\n",
            "[nltk_data] Downloading package wordnet to /root/nltk_data...\n"
          ]
        },
        {
          "output_type": "execute_result",
          "data": {
            "text/plain": [
              "15667"
            ]
          },
          "metadata": {},
          "execution_count": 2
        }
      ]
    },
    {
      "cell_type": "markdown",
      "source": [
        "15667 paragraphes à disposition"
      ],
      "metadata": {
        "id": "2RIU4nFNZs5o"
      }
    },
    {
      "cell_type": "markdown",
      "source": [
        "## Création des ensembles d'entraînement et de développement"
      ],
      "metadata": {
        "id": "6aTINo3LZyCT"
      }
    },
    {
      "cell_type": "code",
      "source": [],
      "metadata": {
        "id": "slpyi32zdDOZ"
      },
      "execution_count": null,
      "outputs": []
    },
    {
      "cell_type": "markdown",
      "source": [
        "Comme nous allons construire un modèle de langage neuronal à trigrammes (= suite de mots), l'étape suivante consiste à collecter des trigrammes pour construire nos données d'apprentissage.\n",
        "\n",
        "Dans un modèle de langage neuronal à trigrammes, par exemple si nous avons le trigramme « la vache mange de l'herbe », l'entrée du modèle est constituée des deux premiers termes d'un trigramme (la vache et mange), et l'objectif du modèle de langage est de prédire le dernier terme du trigramme (l'herbe).\n",
        "\n",
        "Les 12 000 premiers paragraphes serviront de données d'entraînement, et les 3 000+ restants seront utilisés pour le développement. Lors de la construction des données de formation et de développement, mise en correspondance des mots et des identifiants. Tous les mots qui ne figurent pas dans le vocabulaire doivent être associés à l'identifiant spécial <UNK>.\n",
        "\n",
        "Exemple : étant donné la phrase « a big fat hungry cow. », créer les exemples de formation suivants :\n",
        "\n",
        "input       |  target\n",
        "\n",
        "---\n",
        "\n",
        "a, big      |  fat\n",
        "\n",
        "big, fat    |  hungry\n",
        "\n",
        "fat, hungry |  cow\n",
        "\n",
        "hungry, cow |  .\n",
        "\n",
        "\\\\\n",
        "\n",
        "Création du vocabulaire comme vu ci-dessus. Ajout au vocabulaire des mots dont la fréquence est >= 5."
      ],
      "metadata": {
        "id": "mapBRqHNZ3Ba"
      }
    },
    {
      "cell_type": "code",
      "source": [
        "num_train = 12000\n",
        "UNK_symbol = \"<UNK>\"\n",
        "vocab = set([UNK_symbol])\n",
        "\n",
        "#création de brown corpus avec tous les mots\n",
        "#pas de préprocess, juste les minuscules\n",
        "brown_corpus_train = []\n",
        "for idx, paragraph in enumerate(brown.paras()):\n",
        "  if idx == num_train:\n",
        "    break\n",
        "  words = []\n",
        "  for sentence in paragraph:\n",
        "    for word in sentence:\n",
        "      words.append(word.lower())\n",
        "  brown_corpus_train.append(words)\n",
        "\n",
        "#création d'une fréquence de termes des mots\n",
        "words_term_frequency = {}\n",
        "for doc in brown_corpus_train:\n",
        "  for word in doc:\n",
        "    #calcul de la fréquence des termes\n",
        "    words_term_frequency[word] = words_term_frequency.get(word, 0) + 1\n",
        "\n",
        "#création du vocab\n",
        "for doc in brown_corpus_train:\n",
        "  for word in doc:\n",
        "    if words_term_frequency.get(word, 0) >= 5:\n",
        "      vocab.add(word)\n",
        "\n",
        "print(len(vocab))"
      ],
      "metadata": {
        "colab": {
          "base_uri": "https://localhost:8080/"
        },
        "id": "92ioUWQGX9ZL",
        "outputId": "4dd3c526-a656-4c29-95e1-ad25cb06b4b8"
      },
      "execution_count": 3,
      "outputs": [
        {
          "output_type": "stream",
          "name": "stdout",
          "text": [
            "12681\n"
          ]
        }
      ]
    },
    {
      "cell_type": "markdown",
      "source": [
        "Création des ensembles d'entraînement et de développement. Remplacement des mots par leur index correspondant dans le vocabulaire afin qu'ils puissent être introduits facilement dans le réseau de neurones."
      ],
      "metadata": {
        "id": "t98wJ7Skdk3_"
      }
    },
    {
      "cell_type": "code",
      "source": [
        "import numpy as np\n",
        "\n",
        "X_train = []\n",
        "y_train = []\n",
        "X_dev = []\n",
        "y_dev = []\n",
        "\n",
        "#création d'une correspondance entre les mots et id\n",
        "mapping = {}\n",
        "for idx, word in enumerate(vocab):\n",
        "  mapping[word] = idx\n",
        "\n",
        "#fonction pour recup l'id d'un mot donné\n",
        "#retourne <UNK> id si pas trouvé\n",
        "def get_id_of_word(word):\n",
        "  unknown_word_id = mapping['<UNK>']\n",
        "  return mapping.get(word, unknown_word_id)\n",
        "\n",
        "#création des ensembles d'entraînement et de dev\n",
        "for idx, paragraph in enumerate(brown.paras()):\n",
        "  for sentence in paragraph:\n",
        "    for i, word in enumerate(sentence):\n",
        "      if i+2 >= len(sentence):\n",
        "        #limite de la phrase atteinte\n",
        "        #ignorer une phrase de moins de 3 mots\n",
        "        break\n",
        "      #conversion du mot vers l'id\n",
        "      X_extract = [get_id_of_word(word.lower()), get_id_of_word(sentence[i+1].lower())]\n",
        "      y_extract = [get_id_of_word(sentence[i+2].lower())]\n",
        "      if idx < num_train:\n",
        "        X_train.append(X_extract)\n",
        "        y_train.append(y_extract)\n",
        "      else:\n",
        "        X_dev.append(X_extract)\n",
        "        y_dev.append(y_extract)\n",
        "\n",
        "X_train = np.array(X_train)\n",
        "y_train = np.array(y_train)\n",
        "X_dev = np.array(X_dev)\n",
        "y_dev = np.array(y_dev)\n",
        "\n",
        "print(X_train.shape)\n",
        "print(y_train.shape)\n",
        "print(X_dev.shape)\n",
        "print(y_dev.shape)"
      ],
      "metadata": {
        "colab": {
          "base_uri": "https://localhost:8080/"
        },
        "id": "0FgYtJqLdh4N",
        "outputId": "1dada85c-6366-44d6-9b82-0c55e3de347d"
      },
      "execution_count": 5,
      "outputs": [
        {
          "output_type": "stream",
          "name": "stdout",
          "text": [
            "(872823, 2)\n",
            "(872823, 1)\n",
            "(174016, 2)\n",
            "(174016, 1)\n"
          ]
        }
      ]
    },
    {
      "cell_type": "markdown",
      "source": [
        "## Architecture **NLPM**"
      ],
      "metadata": {
        "id": "dVD1AJvmgB8D"
      }
    },
    {
      "cell_type": "markdown",
      "source": [
        "![image_2025-03-11_193847618.png](data:image/png;base64,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)"
      ],
      "metadata": {
        "id": "TvtG2BoTgIb2"
      }
    },
    {
      "cell_type": "markdown",
      "source": [
        "Adapter cette structure au trigramme en ne prenant que deux mots en entrée et en prédisant le mot suivant :\n",
        "\n",
        "$x' = e(x_1) ⊕ e(x_2)$\n",
        "\n",
        "$h = tanh(W_1 x' + b)$\n",
        "\n",
        "$y = softmax(W_2 h)$\n",
        "\n",
        "où ⊕ est l'opérateur de concaténation, $x_1$ et $x_2$ sont les mots d'entrée, $e$ est la fonction d'intégration, et $y$ le mot cible.\n",
        "\n",
        "Maintenant, si on a un réseau neuronal avec 100 états cachés et 200 vecteurs de taille pour chaque mot avec un vocabulaire de 12681 :"
      ],
      "metadata": {
        "id": "9fUM4IHTgiJy"
      }
    },
    {
      "cell_type": "markdown",
      "source": [
        "embedding_matrix = (12681 x 200)\n",
        "\n",
        "e(x1) = (1 x 200)\n",
        "\n",
        "e(x2) = (1 x 200)\n",
        "\n",
        "x' = (1 x 200) concat (1 x 200) = (1 x 400)\n",
        "\n",
        "W1 = (100 x 400)\n",
        "\n",
        "b = (1 x 100)\n",
        "\n",
        "h = tanh(W1 x' + b) = (1 x 100)\n",
        "\n",
        "W2 = (12681 x 100)\n",
        "\n",
        "y = softmax(W2 h) = (1 x 12681)"
      ],
      "metadata": {
        "id": "m0UIzgibiO9W"
      }
    },
    {
      "cell_type": "code",
      "source": [
        "import torch\n",
        "import multiprocessing\n",
        "from torch import nn\n",
        "import torch.nn.functional as F\n",
        "import torch.optim as optim\n",
        "from torch.utils.data import DataLoader\n",
        "import time\n",
        "\n",
        "class TrigramNNModel(nn.Module):\n",
        "  def __init__(self, vocab_size, embedding_dim, context_size, h):\n",
        "    super(TrigramNNModel, self).__init__()\n",
        "    self.context_size = context_size\n",
        "    self.embedding_dim = embedding_dim\n",
        "    self.embeddings = nn.Embedding(vocab_size, embedding_dim)\n",
        "    self.linear1 = nn.Linear(context_size * embedding_dim, h)\n",
        "    self.linear2 = nn.Linear(h, vocab_size, bias = False)\n",
        "\n",
        "  def forward(self, inputs):\n",
        "    #calcul de x' : concatenation des embeddings x1 et x2\n",
        "    embeds = self.embeddings(inputs).view(-1, self.context_size * self.embedding_dim)\n",
        "    #calcul de h : tanh(W1.x' + b)\n",
        "    out = torch.tanh(self.linear1(embeds))\n",
        "    #calcul de W2.h\n",
        "    out = self.linear2(out)\n",
        "    #calcul de y : log_softmax(W2.h)\n",
        "    log_probs = F.log_softmax(out, dim=1)\n",
        "    #retourne probabilités logarithmiques\n",
        "    #BATCH_SIZE x len(vocab)\n",
        "    return log_probs"
      ],
      "metadata": {
        "id": "1IdrbcjLiUOK"
      },
      "execution_count": 7,
      "outputs": []
    },
    {
      "cell_type": "markdown",
      "source": [
        "## Entraînement et sauvegarde du modèle Pytorch avec accélération GPU"
      ],
      "metadata": {
        "id": "usJd2BCekKnO"
      }
    },
    {
      "cell_type": "markdown",
      "source": [
        "Dans un premier temps, créer un dataloader pour les données d'entraînement et de dév.\n",
        "\n",
        "On utilisera 100 unités cachées avec des vecteurs de 200 mots, et 256 comme taille de lot (batch size) pour le dataloader."
      ],
      "metadata": {
        "id": "TW-2hWutkWzZ"
      }
    },
    {
      "cell_type": "code",
      "source": [
        "#création des paramètres\n",
        "gpu = 0\n",
        "\n",
        "#taille des vecteurs de mots\n",
        "EMBEDDING_DIM = 200\n",
        "CONTEXT_SIZE = 2\n",
        "BATCH_SIZE = 256\n",
        "\n",
        "#unités cachées\n",
        "H = 100\n",
        "torch.manual_seed(13013)\n",
        "\n",
        "#check si gpu est disponible\n",
        "# If CUDA is not available, default to CPU. This line was changed to fix the error\n",
        "device = torch.device('cuda' if torch.cuda.is_available() else 'cpu')\n",
        "available_workers = multiprocessing.cpu_count()\n",
        "\n",
        "print(\"Creating training and dev dataloaders with {} batch size\".format(BATCH_SIZE))\n",
        "train_set = np.concatenate((X_train, y_train), axis = 1)\n",
        "dev_set = np.concatenate((X_dev, y_dev), axis = 1)\n",
        "train_loader = DataLoader(train_set, batch_size = BATCH_SIZE, num_workers = available_workers)\n",
        "dev_loader = DataLoader(dev_set, batch_size = BATCH_SIZE, num_workers = available_workers)"
      ],
      "metadata": {
        "colab": {
          "base_uri": "https://localhost:8080/"
        },
        "id": "us1-KI-6kUpL",
        "outputId": "660db841-8538-4351-c3ff-342133ff4d0c"
      },
      "execution_count": 11,
      "outputs": [
        {
          "output_type": "stream",
          "name": "stdout",
          "text": [
            "Creating training and dev dataloaders with 256 batch size\n"
          ]
        }
      ]
    },
    {
      "cell_type": "code",
      "source": [
        "#obtenir la précision des probabilités logarithmiques\n",
        "def get_accuracy_log(log_probs, labels):\n",
        "  probs = torch.exp(log_probs)\n",
        "  predicted_label = torch.argmax(probs, dim = 1)\n",
        "  acc = (predicted_label == labels).float().mean()\n",
        "  return acc\n",
        "\n",
        "#évaluation du modèle sur les données de dev\n",
        "def evaluate(model, criterion, dataloader, gpu):\n",
        "  model.eval()\n",
        "  mean_acc, mean_loss = 0, 0\n",
        "  count = 0\n",
        "\n",
        "  with torch.no_grad():\n",
        "    dev_st = time.time()\n",
        "    for it, data_tensor in enumerate(dataloader):\n",
        "      context_tensor = data_tensor[:,0:2]\n",
        "      target_tensor = data_tensor[:,2]\n",
        "      context_tensor, target_tensor = context_tensor.to(device), target_tensor.to(device)\n",
        "      log_probs = model(context_tensor)\n",
        "      mean_loss += criterion(log_probs, target_tensor).item()\n",
        "      mean_acc += get_accuracy_log(log_probs, target_tensor)\n",
        "      count += 1\n",
        "      if it % 500 == 0:\n",
        "        print(\"Dev iteration {} complete. Mean Loss : {}; Mean Acc : {}; Time taken (s) : {}\".format(it, mean_loss / count, mean_acc / count, (time.time() - dev_st)))\n",
        "        dev_st = time.time()\n",
        "  return mean_acc / count, mean_loss / count"
      ],
      "metadata": {
        "id": "NtUieD6QlrI0"
      },
      "execution_count": 12,
      "outputs": []
    },
    {
      "cell_type": "code",
      "source": [
        "#utilisation de la perte log-likelihood négative\n",
        "loss_function = nn.NLLLoss()\n",
        "\n",
        "#création du modèle\n",
        "model = TrigramNNModel(len(vocab), EMBEDDING_DIM, CONTEXT_SIZE, H)\n",
        "\n",
        "#chargement du modèle sur le gpu\n",
        "model.to(device)\n",
        "\n",
        "#utilisation de l'optimiser ADAM\n",
        "optimizer = optim.Adam(model.parameters(), lr = 2e-3)\n",
        "\n",
        "#-----------------ENTRAINEMENT DU MODELE----------------\n",
        "best_acc = 0\n",
        "best_model_path = None\n",
        "\n",
        "for epoch in range(5):\n",
        "  st = time.time()\n",
        "  print(\"\\n Training model Epoch : {}\".format(epoch+1))\n",
        "  for it, data_tensor in enumerate(train_loader):\n",
        "    context_tensor = data_tensor[:,0:2]\n",
        "    target_tensor = data_tensor[:,2]\n",
        "\n",
        "    context_tensor, target_tensor = context_tensor.to(device), target_tensor.to(device)\n",
        "\n",
        "    #annulation des gradients de l'ancienne distance\n",
        "    model.zero_grad()\n",
        "\n",
        "    #obtention des proba log sur les mots suivants\n",
        "    log_probs = model(context_tensor)\n",
        "\n",
        "    #calcul de la précision actuelle\n",
        "    acc = get_accuracy_log(log_probs, target_tensor)\n",
        "\n",
        "    #calcul de la loss function\n",
        "    loss = loss_function(log_probs, target_tensor)\n",
        "\n",
        "    #passage en arrière et maj du gradient\n",
        "    loss.backward()\n",
        "    optimizer.step()\n",
        "\n",
        "    if it % 500 == 0:\n",
        "      print(\"Iteration {} complete. Loss : {}; Accuracy : {}; Time taken (s) : {}\".format(it, loss.item(), acc, (time.time() - st)))\n",
        "      st = time.time()\n",
        "\n",
        "  print(\"\\n Evaluating model on dev data\")\n",
        "  dev_acc, dev_loss = evaluate(model, loss_function, dev_loader, gpu)\n",
        "  print(\"Epoch {} complete! Dev accuracy : {}; Dev Loss : {}\".format(epoch, dev_acc, dev_loss))\n",
        "  if dev_acc > best_acc:\n",
        "    print(\"Best dev accuracy improved from {} to {}, saving model.\".format(best_acc, dev_acc))\n",
        "    best_acc = dev_acc\n",
        "    #définition du chemin du meilleur modèle\n",
        "    best_model_path = 'best_model_{}.dat'.format(epoch)\n",
        "    #sauvegarde du meilleur modèle\n",
        "    torch.save(model.state_dict(), best_model_path)\n",
        ""
      ],
      "metadata": {
        "colab": {
          "base_uri": "https://localhost:8080/"
        },
        "id": "yIFzQNCInMFc",
        "outputId": "04c2ba4d-5779-4b85-a7fe-de3f208f4a4b"
      },
      "execution_count": 14,
      "outputs": [
        {
          "output_type": "stream",
          "name": "stdout",
          "text": [
            "\n",
            " Training model Epoch : 1\n",
            "Iteration 0 complete. Loss : 9.474194526672363; Accuracy : 0.0; Time taken (s) : 0.5636405944824219\n",
            "Iteration 500 complete. Loss : 6.25606632232666; Accuracy : 0.14453125; Time taken (s) : 34.56819677352905\n",
            "Iteration 1000 complete. Loss : 6.112386703491211; Accuracy : 0.140625; Time taken (s) : 32.594919204711914\n",
            "Iteration 1500 complete. Loss : 6.093239784240723; Accuracy : 0.13671875; Time taken (s) : 32.07721972465515\n",
            "Iteration 2000 complete. Loss : 5.900447845458984; Accuracy : 0.11328125; Time taken (s) : 32.01151466369629\n",
            "Iteration 2500 complete. Loss : 6.155505180358887; Accuracy : 0.14453125; Time taken (s) : 32.16296601295471\n",
            "Iteration 3000 complete. Loss : 5.68014669418335; Accuracy : 0.203125; Time taken (s) : 31.927522659301758\n",
            "\n",
            " Evaluating model on dev data\n",
            "Dev iteration 0 complete. Mean Loss : 5.054906845092773; Mean Acc : 0.19140625; Time taken (s) : 0.09615921974182129\n",
            "Dev iteration 500 complete. Mean Loss : 5.128794352213542; Mean Acc : 0.16831961274147034; Time taken (s) : 14.14955997467041\n",
            "Epoch 0 complete! Dev accuracy : 0.1675417423248291; Dev Loss : 5.142436669153326\n",
            "Best dev accuracy improved from 0 to 0.1675417423248291, saving model.\n",
            "\n",
            " Training model Epoch : 2\n",
            "Iteration 0 complete. Loss : 6.341000080108643; Accuracy : 0.125; Time taken (s) : 0.1597456932067871\n",
            "Iteration 500 complete. Loss : 5.653852939605713; Accuracy : 0.1953125; Time taken (s) : 32.47277498245239\n",
            "Iteration 1000 complete. Loss : 5.477453231811523; Accuracy : 0.17578125; Time taken (s) : 32.10186171531677\n",
            "Iteration 1500 complete. Loss : 5.6658220291137695; Accuracy : 0.16015625; Time taken (s) : 32.17822599411011\n",
            "Iteration 2000 complete. Loss : 5.500362873077393; Accuracy : 0.1328125; Time taken (s) : 31.32499861717224\n",
            "Iteration 2500 complete. Loss : 5.601654052734375; Accuracy : 0.15625; Time taken (s) : 31.858948945999146\n",
            "Iteration 3000 complete. Loss : 5.247468948364258; Accuracy : 0.21484375; Time taken (s) : 31.851792812347412\n",
            "\n",
            " Evaluating model on dev data\n",
            "Dev iteration 0 complete. Mean Loss : 4.999487400054932; Mean Acc : 0.17578125; Time taken (s) : 0.09156513214111328\n",
            "Dev iteration 500 complete. Mean Loss : 5.103213994564887; Mean Acc : 0.1717502474784851; Time taken (s) : 14.588987827301025\n",
            "Epoch 1 complete! Dev accuracy : 0.17135417461395264; Dev Loss : 5.116164239013896\n",
            "Best dev accuracy improved from 0.1675417423248291 to 0.17135417461395264, saving model.\n",
            "\n",
            " Training model Epoch : 3\n",
            "Iteration 0 complete. Loss : 5.959469795227051; Accuracy : 0.1328125; Time taken (s) : 0.1583402156829834\n",
            "Iteration 500 complete. Loss : 5.362155437469482; Accuracy : 0.19140625; Time taken (s) : 31.96406626701355\n",
            "Iteration 1000 complete. Loss : 5.241204738616943; Accuracy : 0.21875; Time taken (s) : 32.775352001190186\n",
            "Iteration 1500 complete. Loss : 5.408792018890381; Accuracy : 0.17578125; Time taken (s) : 33.9129798412323\n",
            "Iteration 2000 complete. Loss : 5.275784015655518; Accuracy : 0.15625; Time taken (s) : 37.23668169975281\n",
            "Iteration 2500 complete. Loss : 5.262648105621338; Accuracy : 0.17578125; Time taken (s) : 39.286986112594604\n",
            "Iteration 3000 complete. Loss : 4.976778507232666; Accuracy : 0.21875; Time taken (s) : 36.25550818443298\n",
            "\n",
            " Evaluating model on dev data\n",
            "Dev iteration 0 complete. Mean Loss : 4.9854865074157715; Mean Acc : 0.19921875; Time taken (s) : 0.09295654296875\n",
            "Dev iteration 500 complete. Mean Loss : 5.135109003908382; Mean Acc : 0.1712590456008911; Time taken (s) : 15.723087787628174\n",
            "Epoch 2 complete! Dev accuracy : 0.17104396224021912; Dev Loss : 5.147366116327398\n",
            "\n",
            " Training model Epoch : 4\n",
            "Iteration 0 complete. Loss : 5.635675430297852; Accuracy : 0.1328125; Time taken (s) : 0.1686999797821045\n",
            "Iteration 500 complete. Loss : 5.120693206787109; Accuracy : 0.21484375; Time taken (s) : 34.72077417373657\n",
            "Iteration 1000 complete. Loss : 5.053845405578613; Accuracy : 0.21484375; Time taken (s) : 33.36401295661926\n",
            "Iteration 1500 complete. Loss : 5.235611438751221; Accuracy : 0.1953125; Time taken (s) : 32.31603145599365\n",
            "Iteration 2000 complete. Loss : 5.110048294067383; Accuracy : 0.16015625; Time taken (s) : 36.14613914489746\n",
            "Iteration 2500 complete. Loss : 5.073099136352539; Accuracy : 0.1796875; Time taken (s) : 37.38591241836548\n",
            "Iteration 3000 complete. Loss : 4.801156044006348; Accuracy : 0.24609375; Time taken (s) : 37.371564865112305\n",
            "\n",
            " Evaluating model on dev data\n",
            "Dev iteration 0 complete. Mean Loss : 5.005221843719482; Mean Acc : 0.1875; Time taken (s) : 0.1922929286956787\n",
            "Dev iteration 500 complete. Mean Loss : 5.182784395541497; Mean Acc : 0.17153973877429962; Time taken (s) : 18.715471029281616\n",
            "Epoch 3 complete! Dev accuracy : 0.1709999144077301; Dev Loss : 5.193690674445208\n",
            "\n",
            " Training model Epoch : 5\n",
            "Iteration 0 complete. Loss : 5.463925361633301; Accuracy : 0.1328125; Time taken (s) : 0.360821008682251\n",
            "Iteration 500 complete. Loss : 4.948579788208008; Accuracy : 0.21484375; Time taken (s) : 37.50532579421997\n",
            "Iteration 1000 complete. Loss : 4.884766578674316; Accuracy : 0.21875; Time taken (s) : 33.304439067840576\n",
            "Iteration 1500 complete. Loss : 5.117647171020508; Accuracy : 0.1953125; Time taken (s) : 32.57724356651306\n",
            "Iteration 2000 complete. Loss : 4.960302829742432; Accuracy : 0.15234375; Time taken (s) : 34.19076490402222\n",
            "Iteration 2500 complete. Loss : 4.945671558380127; Accuracy : 0.19140625; Time taken (s) : 32.72531604766846\n",
            "Iteration 3000 complete. Loss : 4.631193161010742; Accuracy : 0.23828125; Time taken (s) : 32.860631227493286\n",
            "\n",
            " Evaluating model on dev data\n",
            "Dev iteration 0 complete. Mean Loss : 5.011991500854492; Mean Acc : 0.19921875; Time taken (s) : 0.08961701393127441\n",
            "Dev iteration 500 complete. Mean Loss : 5.2346663503589745; Mean Acc : 0.17044037580490112; Time taken (s) : 14.45371150970459\n",
            "Epoch 4 complete! Dev accuracy : 0.16991230845451355; Dev Loss : 5.244148469672483\n"
          ]
        }
      ]
    },
    {
      "cell_type": "markdown",
      "source": [
        "## Calcul des similitudes de mots grâce au modèle"
      ],
      "metadata": {
        "id": "vrrv31rquu_2"
      }
    },
    {
      "cell_type": "code",
      "source": [
        "best_model = TrigramNNModel(len(vocab), EMBEDDING_DIM, CONTEXT_SIZE, H)\n",
        "best_model.load_state_dict(torch.load(best_model_path, weights_only=True))\n",
        "best_model.to(device)\n",
        "\n",
        "cos = nn.CosineSimilarity(dim=0)\n",
        "\n",
        "lm_simili = {}\n",
        "\n",
        "#paires de mots pour calculer la similarité\n",
        "words = {('computer', 'keyboard'), ('cat', 'dog'), ('dog', 'car'), ('keyboard', 'cat')}\n",
        "\n",
        "#calcul similarités LM en utilisant la similarité cosinus\n",
        "for word_pairs in words:\n",
        "  w1 = word_pairs[0]\n",
        "  w2 = word_pairs[1]\n",
        "  words_tensor = torch.LongTensor([get_id_of_word(w1), get_id_of_word(w2)])\n",
        "  words_tensor = words_tensor.to(device)\n",
        "  #obtention du mot à partir du meilleur modèle\n",
        "  words_embeds = best_model.embeddings(words_tensor)\n",
        "  #calcul similarité cosinus entre vecteurs de mots\n",
        "  sim = cos(words_embeds[0], words_embeds[1])\n",
        "  lm_simili[word_pairs] = sim.item()\n",
        "print(lm_simili)\n"
      ],
      "metadata": {
        "colab": {
          "base_uri": "https://localhost:8080/"
        },
        "id": "09mHBfRwu8WJ",
        "outputId": "0989e130-cefb-4fed-e761-9af1caf8c7ca"
      },
      "execution_count": 16,
      "outputs": [
        {
          "output_type": "stream",
          "name": "stdout",
          "text": [
            "{('cat', 'dog'): 0.02588968724012375, ('dog', 'car'): -0.005435522645711899, ('keyboard', 'cat'): -0.04272951930761337, ('computer', 'keyboard'): 0.07996205240488052}\n"
          ]
        }
      ]
    },
    {
      "cell_type": "markdown",
      "source": [
        "Le résultat suggère que (keyboard, computer) et (cat, dog) sont plus similaires du point de vue du contexte ou de la proba de co-occurence que (keyboard, cat) et (dog, car)."
      ],
      "metadata": {
        "id": "-hcDlVLoyQaL"
      }
    }
  ]
}